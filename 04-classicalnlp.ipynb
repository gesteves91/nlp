{
 "cells": [
  {
   "cell_type": "markdown",
   "metadata": {},
   "source": [
    "## Introduction to Classical Natural Language Processing ##\n",
    "\n",
    "This notebook is a hands-on introduction to Classical NLP, that is, non-deep learning techniques of NLP.  It is designed to be used with the edX course on Natural Language Processing, from Microsoft.  \n",
    "\n",
    "The topics covered align with the NLP tasks related to the various stages of the NLP pipeline: text processing, text exploration, building features, and application level tasks.\n"
   ]
  },
  {
   "cell_type": "markdown",
   "metadata": {},
   "source": [
    "## 1. Introduction ##\n"
   ]
  },
  {
   "cell_type": "markdown",
   "metadata": {},
   "source": [
    "** 1.1 NLTK Setup  **\n",
    "   - NLTK is included with the Anaconda Distribution of Python, or can be downloaded directly from nltk.org. \n",
    "   - Once NLTK is installed, the text data files (corpora) should be downloaded.  See the following cell to start the download.\n",
    "   "
   ]
  },
  {
   "cell_type": "code",
   "execution_count": null,
   "metadata": {},
   "outputs": [],
   "source": [
    "import nltk\n",
    "\n",
    "# uncomment the line below to download NLTK resources the first time NLTK is used and RUN this cell.\n",
    "# when the \"NLTK Downloader\" dialog appears (takes 10-20 seconds), click on the \"download\" button \n",
    "#nltk.download()"
   ]
  },
  {
   "cell_type": "markdown",
   "metadata": {},
   "source": [
    "** 1.2 Crash Course in Regular Expressions **\n",
    "\n",
    "If you are new to using regular expressions, or would like a quick refresher, you can study the examples\n",
    "and resulting output in the code cell below.\n",
    "\n",
    "Here is a cheat sheet for the SEARCH BASICS (code examples follow below):\n",
    "\n",
    "    Operator   Meaning       Example  Example meaning\n",
    "    \n",
    "    +          one or more   a+       look for 1 or more \"a\" characters \n",
    "    *          zero or more  a*       look for 0 or more \"a\" characters\n",
    "    ?          optional      a?       look for 0 or 1 \"a\" characters\n",
    "    []         choose 1      [abc]    look for \"a\" or \"b\" or \"c\"\n",
    "    [-]        range         [a-z]    look for any character between \"a\" and \"z\"\n",
    "    [^]        not           [^a]     look for character that is not \"a\"\n",
    "    ()         grouping      (a-z)+   look for one of more occurences of chars between \"a\" and \"z\"\n",
    "    (|)        or operator   (ey|ax)  look for strings \"ey\" or \"ax\"\n",
    "    \n",
    "    ab         follow        ab       look for character \"a\" followed by character \"b\"\n",
    "    ^          start         ^a       look for character \"a\" at start of string/line\n",
    "    $          end           a$       look for character \"a\" at end of string/line\n",
    "    \\s         whitespace    \\sa      look for whitespace character followed by \"a\"\n",
    "    .          any character a.b      look for \"a\" followed by any char followed by \"b\"\n",
    "    \n",
    "Common Uses:\n",
    "   - re.search     finds first matching object\n",
    "   - re.findall    returns all matching objects\n",
    "   - re.sub        replaces matches with replacement string\n",
    "    "
   ]
  },
  {
   "cell_type": "code",
   "execution_count": 1,
   "metadata": {},
   "outputs": [
    {
     "data": {
      "text/plain": [
       "<_sre.SRE_Match object; span=(12, 13), match='x'>"
      ]
     },
     "execution_count": 1,
     "metadata": {},
     "output_type": "execute_result"
    }
   ],
   "source": [
    "import re\n",
    "\n",
    "# search for single char\n",
    "re.search(r\"x\", \"this is an extra helping\")"
   ]
  },
  {
   "cell_type": "code",
   "execution_count": 2,
   "metadata": {},
   "outputs": [
    {
     "data": {
      "text/plain": [
       "'x'"
      ]
     },
     "execution_count": 2,
     "metadata": {},
     "output_type": "execute_result"
    }
   ],
   "source": [
    "# search for single char\n",
    "re.search(r\"x\", \"this is an extra helping\").group(0)     # gives easier-to-read output"
   ]
  },
  {
   "cell_type": "code",
   "execution_count": 3,
   "metadata": {},
   "outputs": [
    {
     "data": {
      "text/plain": [
       "['c', 'a', 's', 'h']"
      ]
     },
     "execution_count": 3,
     "metadata": {},
     "output_type": "execute_result"
    }
   ],
   "source": [
    "# find all occurences of any character between \"a\" and \"z\"\n",
    "re.findall(r\"[a-z]\", \"$34.33 cash.\")"
   ]
  },
  {
   "cell_type": "code",
   "execution_count": 4,
   "metadata": {},
   "outputs": [
    {
     "data": {
      "text/plain": [
       "['name', 'phone']"
      ]
     },
     "execution_count": 4,
     "metadata": {},
     "output_type": "execute_result"
    }
   ],
   "source": [
    "# find all occurences of either \"name:\" or \"phone:\"\n",
    "re.findall(r\"(name|phone):\", \"My name: Joe, my phone: (312)555-1212\")"
   ]
  },
  {
   "cell_type": "code",
   "execution_count": 12,
   "metadata": {},
   "outputs": [
    {
     "data": {
      "text/plain": [
       "['Lion', 'lion']"
      ]
     },
     "execution_count": 12,
     "metadata": {},
     "output_type": "execute_result"
    }
   ],
   "source": [
    "# find \"lion\", \"lions\" or \"Lion\", or \"Lions\"\n",
    "re.findall(r\"([Ll]ion)s?\", \"Give it to the Lions or the lion.\")"
   ]
  },
  {
   "cell_type": "code",
   "execution_count": 14,
   "metadata": {},
   "outputs": [
    {
     "data": {
      "text/plain": [
       "'Hxx.  I xxxx xxxx xxxxx xxxxx...'"
      ]
     },
     "execution_count": 14,
     "metadata": {},
     "output_type": "execute_result"
    }
   ],
   "source": [
    "# replace allll lowercase letters with \"x\"\n",
    "re.sub(\"[a-z]\", \"x\", \"Hey.  I know this regex stuff...\")"
   ]
  },
  {
   "cell_type": "markdown",
   "metadata": {},
   "source": [
    "## 2. Text Processing ##\n",
    "\n",
    "This section introduces some of the tasks and techniques used to acquire, clean, and normalize the text data."
   ]
  },
  {
   "cell_type": "markdown",
   "metadata": {},
   "source": [
    "** 2.1 Data Acquisition **\n",
    "\n",
    "Issues:\n",
    "   - how do I find the data I need?\n",
    "   - is it already in digital form, or will it need OCR?\n",
    "   - how much will it cost?  \n",
    "   - will it be updated/expanded over time?  More costs?\n",
    "   - (if CUSTOMER DATA), do I have the legal / privacy rights needed to use the data in the way I need for my application? \n",
    "   - do I have the safeguards needed to securely store the data?\n",
    "  \n"
   ]
  },
  {
   "cell_type": "code",
   "execution_count": 16,
   "metadata": {},
   "outputs": [
    {
     "name": "stdout",
     "output_type": "stream",
     "text": [
      "gutenberg book ids= ['austen-emma.txt', 'austen-persuasion.txt', 'austen-sense.txt', 'bible-kjv.txt', 'blake-poems.txt', 'bryant-stories.txt', 'burgess-busterbrown.txt', 'carroll-alice.txt', 'chesterton-ball.txt', 'chesterton-brown.txt', 'chesterton-thursday.txt', 'edgeworth-parents.txt', 'melville-moby_dick.txt', 'milton-paradise.txt', 'shakespeare-caesar.txt', 'shakespeare-hamlet.txt', 'shakespeare-macbeth.txt', 'whitman-leaves.txt']\n"
     ]
    }
   ],
   "source": [
    "import nltk\n",
    "\n",
    "# shows how to access one of the gutenberg books included in NLTK\n",
    "print(\"gutenberg book ids=\", nltk.corpus.gutenberg.fileids())"
   ]
  },
  {
   "cell_type": "code",
   "execution_count": 17,
   "metadata": {},
   "outputs": [
    {
     "name": "stdout",
     "output_type": "stream",
     "text": [
      "len(alice)= 34110\n",
      "['[', 'Alice', \"'\", 's', 'Adventures', 'in', 'Wonderland', 'by', 'Lewis', 'Carroll', '1865', ']', 'CHAPTER', 'I', '.', 'Down', 'the', 'Rabbit', '-', 'Hole', 'Alice', 'was', 'beginning', 'to', 'get', 'very', 'tired', 'of', 'sitting', 'by', 'her', 'sister', 'on', 'the', 'bank', ',', 'and', 'of', 'having', 'nothing', 'to', 'do', ':', 'once', 'or', 'twice', 'she', 'had', 'peeped', 'into', 'the', 'book', 'her', 'sister', 'was', 'reading', ',', 'but', 'it', 'had', 'no', 'pictures', 'or', 'conversations', 'in', 'it', ',', \"'\", 'and', 'what', 'is', 'the', 'use', 'of', 'a', 'book', \",'\", 'thought', 'Alice', \"'\", 'without', 'pictures', 'or', 'conversation', \"?'\", 'So', 'she', 'was', 'considering', 'in', 'her', 'own', 'mind', '(', 'as', 'well', 'as', 'she', 'could', ',']\n"
     ]
    }
   ],
   "source": [
    "# load words from \"Alice in Wonderland\"\n",
    "\n",
    "alice = nltk.corpus.gutenberg.words(\"carroll-alice.txt\")\n",
    "print(\"len(alice)=\", len(alice))\n",
    "print(alice[:100])"
   ]
  },
  {
   "cell_type": "code",
   "execution_count": 18,
   "metadata": {},
   "outputs": [
    {
     "name": "stdout",
     "output_type": "stream",
     "text": [
      "len(grail)= 16967\n",
      "['SCENE', '1', ':', '[', 'wind', ']', '[', 'clop', 'clop', 'clop', ']', 'KING', 'ARTHUR', ':', 'Whoa', 'there', '!', '[', 'clop', 'clop', 'clop', ']', 'SOLDIER', '#', '1', ':', 'Halt', '!', 'Who', 'goes', 'there', '?', 'ARTHUR', ':', 'It', 'is', 'I', ',', 'Arthur', ',', 'son', 'of', 'Uther', 'Pendragon', ',', 'from', 'the', 'castle', 'of', 'Camelot', '.', 'King', 'of', 'the', 'Britons', ',', 'defeator', 'of', 'the', 'Saxons', ',', 'sovereign', 'of', 'all', 'England', '!', 'SOLDIER', '#', '1', ':', 'Pull', 'the', 'other', 'one', '!', 'ARTHUR', ':', 'I', 'am', ',', '...', 'and', 'this', 'is', 'my', 'trusty', 'servant', 'Patsy', '.', 'We', 'have', 'ridden', 'the', 'length', 'and', 'breadth', 'of', 'the', 'land', 'in']\n"
     ]
    }
   ],
   "source": [
    "# load words from \"Monty Python and the Holy Grail\"\n",
    "\n",
    "grail = nltk.corpus.webtext.words(\"grail.txt\")\n",
    "print(\"len(grail)=\", len(grail))\n",
    "\n",
    "print(grail[:100])"
   ]
  },
  {
   "cell_type": "markdown",
   "metadata": {},
   "source": [
    "** 2.2 Plain Text Extraction **\n",
    "\n",
    "If your text data lives in a non-plain text file (WORD, POWERPOINT, PDF, HTML, etc.), you will need to use a â€œfilterâ€ to extract the plain text from the file.\n",
    "\n",
    "Python has a number of libraries to extract plain text from popular file formats, but they are take searching and supporting code to use.  "
   ]
  },
  {
   "cell_type": "markdown",
   "metadata": {},
   "source": [
    "** 2.3 Word and Sentence Segmentation (Tokenization) **\n",
    "\n",
    "Word Segmentation Issues:\n",
    "   - Some languages donâ€™t white space characters\n",
    "   - Words with hyphens or apostrophes (Whoâ€™s at the drive-in?)\n",
    "   - Numbers, currency, percentages, dates, times (04/01/2018, $55,000.00)\n",
    "   - Ellipses, special characters\n",
    "   \n",
    "Sentence Segmentation Issues:\n",
    "   - Quoted speech within a sentence\n",
    "   - Abbreviations with periods (The Ph.D. was D.O.A) \n",
    "\n",
    "Tokenization Techniques  \n",
    "   - Perl script (50 lines) with RegEx         (Grefenstette, 1999)  \n",
    "   - maxmatch Algorithm: \n",
    "\n",
    "         themanranafterit  ->    the man ran after it  \n",
    "         thetabledownthere ->    theta bled own there      (Palmer, 2000)  \n",
    "   "
   ]
  },
  {
   "cell_type": "code",
   "execution_count": 19,
   "metadata": {},
   "outputs": [
    {
     "name": "stdout",
     "output_type": "stream",
     "text": [
      "['the', 'man', 'ran', 'after', 'it']\n",
      "['theta', 'bled', 'own', 'there']\n"
     ]
    }
   ],
   "source": [
    "# code example: simple version of maxmatch algorithm for tokenization (word segmentation)\n",
    "def tokenize(str, dict):\n",
    "    s = 0\n",
    "    words = []\n",
    "    \n",
    "    while (s < len(str)):\n",
    "        found = False\n",
    "        \n",
    "        # find biggest word in dict that matches str[s:xxx]\n",
    "        for word in dict:\n",
    "            lw = len(word)\n",
    "            if (str[s:s+lw] == word):\n",
    "                words.append(word)\n",
    "                s += lw\n",
    "                found = True\n",
    "                break\n",
    "        if (not found):\n",
    "            words.append(str[s])\n",
    "            s += 1\n",
    "\n",
    "    print(words)\n",
    "    #return words\n",
    "\n",
    "# small dictionary of known words, longest words first\n",
    "dict = [\"before\", \"table\", \"theta\", \"after\", \"where\", \"there\", \"bled\", \"said\", \"lead\", \"man\", \"her\", \"own\", \"the\", \"ran\", \"it\"]\n",
    "\n",
    "# this algorithm is designed to work with languages that don't have whitespace characters\n",
    "# so simulate that in our test\n",
    "tokenize(\"themanranafterit\", dict)      # works!\n",
    "tokenize(\"thetabledownthere\", dict)     # fails!"
   ]
  },
  {
   "cell_type": "code",
   "execution_count": 20,
   "metadata": {},
   "outputs": [
    {
     "data": {
      "text/plain": [
       "['the',\n",
       " 'man',\n",
       " ',',\n",
       " 'he',\n",
       " 'ran',\n",
       " 'after',\n",
       " 'it',\n",
       " \"'s\",\n",
       " '$',\n",
       " '3.23',\n",
       " 'dog',\n",
       " 'on',\n",
       " '03/23/2016',\n",
       " '.']"
      ]
     },
     "execution_count": 20,
     "metadata": {},
     "output_type": "execute_result"
    }
   ],
   "source": [
    "# NLTK example: WORD segmentation\n",
    "\n",
    "nltk.word_tokenize(\"the man, he ran after it's $3.23 dog on 03/23/2016.\")\n"
   ]
  },
  {
   "cell_type": "code",
   "execution_count": 21,
   "metadata": {},
   "outputs": [
    {
     "data": {
      "text/plain": [
       "['The man ran after it.', 'The table down there?', 'Yes, down there!']"
      ]
     },
     "execution_count": 21,
     "metadata": {},
     "output_type": "execute_result"
    }
   ],
   "source": [
    "# NLTK example: SENTENCE segmentation\n",
    "\n",
    "nltk.sent_tokenize('The man ran after it.  The table down there?  Yes, down there!')"
   ]
  },
  {
   "cell_type": "markdown",
   "metadata": {},
   "source": [
    "** 2.4 Stopword Removal **\n",
    "\n",
    "Stopwords are common words that are \"not interesting\" for the app/task at hand.  \n",
    "\n",
    "Easy part â€“ removing words that appear in list.  \n",
    "Tricky part â€“ what to use for stop words?  App-dependent.  Standard lists, high-frequency words in your text, â€¦  "
   ]
  },
  {
   "cell_type": "code",
   "execution_count": 22,
   "metadata": {},
   "outputs": [
    {
     "data": {
      "text/plain": [
       "'test stop word removal code.'"
      ]
     },
     "execution_count": 22,
     "metadata": {},
     "output_type": "execute_result"
    }
   ],
   "source": [
    "# code example: simple algorithm for removing stopwords\n",
    "stoppers = \"a is of the this\".split()\n",
    "\n",
    "def removeStopWords(stopWords, txt):\n",
    "    newtxt = ' '.join([word for word in txt.split() if word not in stopWords])\n",
    "    return newtxt\n",
    "\n",
    "removeStopWords(stoppers, \"this is a test of the stop word removal code.\")"
   ]
  },
  {
   "cell_type": "code",
   "execution_count": 23,
   "metadata": {},
   "outputs": [
    {
     "name": "stdout",
     "output_type": "stream",
     "text": [
      "len(stops)= 153\n"
     ]
    },
    {
     "data": {
      "text/plain": [
       "'test stop word removal code.'"
      ]
     },
     "execution_count": 23,
     "metadata": {},
     "output_type": "execute_result"
    }
   ],
   "source": [
    "# NLTK example: removing stopwords\n",
    "from nltk.corpus import stopwords\n",
    "stops = stopwords.words(\"English\")\n",
    "\n",
    "print(\"len(stops)=\", len(stops))\n",
    "\n",
    "removeStopWords(stops, \"this is a test of the stop word removal code.\")"
   ]
  },
  {
   "cell_type": "markdown",
   "metadata": {},
   "source": [
    "** 2.5 Case Removal **\n",
    "\n",
    "Case removal is part of a larger task called *Text Normalization*, which includes:\n",
    "   - case removal\n",
    "   - stemming   (covered in next section)\n",
    "   \n",
    "Goal of Case removal â€“ converting all text to, for example, lower case  "
   ]
  },
  {
   "cell_type": "code",
   "execution_count": 24,
   "metadata": {},
   "outputs": [
    {
     "data": {
      "text/plain": [
       "'the man ran after it.  the table down there?  yes, down there!'"
      ]
     },
     "execution_count": 24,
     "metadata": {},
     "output_type": "execute_result"
    }
   ],
   "source": [
    "# code example: case removal\n",
    "str = 'The man ran after it.  The table down there?  Yes, down there!'\n",
    "str.lower()"
   ]
  },
  {
   "cell_type": "markdown",
   "metadata": {},
   "source": [
    "** 2.6 Stemming **\n",
    "   \n",
    "Goal of Stemming:\n",
    "    â€“ stripping off endings and other pieces, called AFFIXES \n",
    "    â€“ for English, this is prefixes and suffixes. \n",
    "    - convert word to its base word, called the LEMMA / STEM (e.g., foxes -> fox)\n",
    "    \n",
    "Porter Stemmer\n",
    "  - 100+ cascading â€œrewriteâ€ rules  \n",
    "    ational  -> ate    \t(e.g., relational -> relate)  \n",
    "    ing\t     -> <null>\t(e.g., playing -> play)  \n",
    "    sess     -> ss  \t(e.g., grasses -> grass)  \n",
    "   \n"
   ]
  },
  {
   "cell_type": "code",
   "execution_count": 25,
   "metadata": {},
   "outputs": [
    {
     "name": "stdout",
     "output_type": "stream",
     "text": [
      "porter: ['pleas', \"don't\", 'unbuckl', 'your', 'seat-belt', 'while', 'I', 'am', 'driving,', 'he', 'said']\n",
      "\n",
      "lancaster: ['pleas', \"don't\", 'unbuckl', 'yo', 'seat-belt', 'whil', 'i', 'am', 'driving,', 'he', 'said']\n"
     ]
    }
   ],
   "source": [
    "# NLTK example: stemming\n",
    "\n",
    "def stem_with_porter(words):\n",
    "    porter = nltk.PorterStemmer()\n",
    "    new_words = [porter.stem(w) for w in words]\n",
    "    return new_words\n",
    "    \n",
    "def stem_with_lancaster(words):\n",
    "    porter = nltk.LancasterStemmer()\n",
    "    new_words = [porter.stem(w) for w in words]\n",
    "    return new_words    \n",
    "    \n",
    "str = \"Please don't unbuckle your seat-belt while I am driving, he said\"\n",
    "\n",
    "print(\"porter:\", stem_with_porter(str.split()))\n",
    "print()\n",
    "print(\"lancaster:\", stem_with_lancaster(str.split()))\n"
   ]
  },
  {
   "cell_type": "markdown",
   "metadata": {},
   "source": [
    "## 3. Text Exploration ##\n"
   ]
  },
  {
   "cell_type": "markdown",
   "metadata": {},
   "source": [
    "** 3.1 Frequency Analysis **\n",
    "\n",
    "  - Frequency Analysis\n",
    "  - Letter\n",
    "  - Word\n",
    "  - Bigrams\n",
    "  - Plots\n"
   ]
  },
  {
   "cell_type": "code",
   "execution_count": 34,
   "metadata": {},
   "outputs": [
    {
     "data": {
      "image/png": "[encoded data removed]",
      "text/plain": [
       "<matplotlib.figure.Figure at 0x1fb67ee1b38>"
      ]
     },
     "metadata": {},
     "output_type": "display_data"
    }
   ],
   "source": [
    "# NLTK example: frequence analysis\n",
    "import nltk\n",
    "from nltk.corpus import gutenberg\n",
    "from nltk.probability import FreqDist\n",
    "\n",
    "# get raw text from \"Sense and Sensibility\" by Jane Austen\n",
    "raw = gutenberg.raw(\"austen-sense.txt\")\n",
    "fd_letters = FreqDist(raw)\n",
    "\n",
    "words = gutenberg.words(\"austen-sense.txt\")\n",
    "fd_words = FreqDist(words)\n",
    "sas = nltk.Text(words)\n",
    "\n",
    "# these 2 lines let us size the freq dist plot\n",
    "import matplotlib.pyplot as plt\n",
    "plt.figure(figsize=(20, 5)) \n",
    "\n",
    "# frequency plot for letters from SAS\n",
    "fd_letters.plot(100)"
   ]
  },
  {
   "cell_type": "code",
   "execution_count": 36,
   "metadata": {},
   "outputs": [
    {
     "data": {
      "image/png": "[encoded data removed]",
      "text/plain": [
       "<matplotlib.figure.Figure at 0x1fb6621f9e8>"
      ]
     },
     "metadata": {},
     "output_type": "display_data"
    }
   ],
   "source": [
    "# these 2 lines let us size the freq dist plot\n",
    "import matplotlib.pyplot as plt\n",
    "plt.figure(figsize=(20, 5)) \n",
    "\n",
    "# frequency plot for words from SAS\n",
    "fd_words.plot(50)"
   ]
  },
  {
   "cell_type": "markdown",
   "metadata": {},
   "source": [
    "** 3.2 Collocations **\n",
    "\n",
    "These are interesting word pairs, usually formed by the most common bigrams.  Bigrams are collections of word pairs that occur together in the text. "
   ]
  },
  {
   "cell_type": "code",
   "execution_count": 37,
   "metadata": {},
   "outputs": [
    {
     "name": "stdout",
     "output_type": "stream",
     "text": [
      "Colonel Brandon; Sir John; Lady Middleton; Miss Dashwood; every thing;\n",
      "thousand pounds; dare say; Miss Steeles; said Elinor; Miss Steele;\n",
      "every body; John Dashwood; great deal; Harley Street; Berkeley Street;\n",
      "Miss Dashwoods; young man; Combe Magna; every day; next morning\n"
     ]
    }
   ],
   "source": [
    "# let's look at collocations for our \"Sense and Sensibility\" text\n",
    "sas.collocations() "
   ]
  },
  {
   "cell_type": "markdown",
   "metadata": {},
   "source": [
    "Nice!  \n",
    "\n",
    "Now we are getting a feel for the language and subjects of the text."
   ]
  },
  {
   "cell_type": "code",
   "execution_count": null,
   "metadata": {
    "collapsed": true
   },
   "outputs": [],
   "source": [
    "** 3.3 Long words **\n",
    "\n",
    "Sometimes looking at the long words in a text can be revealing.  Let's try it on sas."
   ]
  },
  {
   "cell_type": "code",
   "execution_count": 46,
   "metadata": {},
   "outputs": [
    {
     "data": {
      "text/plain": [
       "['unpremeditated',\n",
       " 'unsuitableness',\n",
       " 'Disappointment',\n",
       " 'unexhilarating',\n",
       " 'insurmountable',\n",
       " 'inconsiderable',\n",
       " 'thoughtfulness',\n",
       " 'demonstrations',\n",
       " 'unobtrusiveness',\n",
       " 'accomplishment',\n",
       " 'accommodations',\n",
       " 'acknowledgments',\n",
       " 'representations',\n",
       " 'incautiousness',\n",
       " 'inconsiderately']"
      ]
     },
     "execution_count": 46,
     "metadata": {},
     "output_type": "execute_result"
    }
   ],
   "source": [
    "# let's look at long words in the text\n",
    "longWords = [w for w in set(words) if len(w) > 13]\n",
    "longWords[:15]"
   ]
  },
  {
   "cell_type": "markdown",
   "metadata": {},
   "source": [
    "** 3.3 Concordance Views **\n",
    "\n",
    "Concordance views, also called Keywords in Context (KWIC), show the specifed word with the words that surround it in text.  These views can be helpful in understaning how the words are being used in the text.\n",
    "\n",
    "\n"
   ]
  },
  {
   "cell_type": "code",
   "execution_count": 39,
   "metadata": {},
   "outputs": [
    {
     "name": "stdout",
     "output_type": "stream",
     "text": [
      "Displaying 2 of 2 matches:\n",
      "before . She took them all most affectionately by the hand , and expressed gre\n",
      "ed , took her hand , kissed her affectionately several times , and then gave w\n",
      "\n",
      "Displaying 4 of 4 matches:\n",
      "ould not be maintained if their correspondence were to pass through Sir John '\n",
      "ve been Edward ' s gift ; but a correspondence between them by letter , could \n",
      "she had no doubt , and of their correspondence she was not astonished to hear \n",
      "e of Edward afforded her by the correspondence , for his name was not even men\n",
      "\n",
      "Displaying 25 of 36 matches:\n",
      " not know what he was talking of , I dare say ; ten to one but he was light - \n",
      "l . The assistance he thought of , I dare say , was only such as might be reas\n",
      "g , if I have plenty of money , as I dare say I shall , we may think about bui\n",
      ", you will make conquests enough , I dare say , one way or other . Poor Brando\n",
      "e . He is the curate of the parish I dare say .\" \" No , THAT he is not . He is\n",
      "m . He was afraid of catching cold I dare say , and invented this trick for ge\n",
      "ve it in my power to return , that I dare not engage for it at all .\" \" Oh ! h\n",
      "and as like him as she can stare . I dare say the Colonel will leave her all h\n",
      "t Miss Williams and , by the bye , I dare say it is , because he looked so con\n",
      " \" are of such a nature -- that -- I dare not flatter myself \"-- He stopt . Mr\n",
      "nd MY wealth are very much alike , I dare say ; and without them , as the worl\n",
      " unites beauty with utility -- and I dare say it is a picturesque one too , be\n",
      ", you know . Not above ten miles , I dare say .\" \" Much nearer thirty ,\" said \n",
      "h my uncle at Weymouth . However , I dare say we should have seen a great deal\n",
      "t if mama had not objected to it , I dare say he would have liked it of all th\n",
      "ill think my question an odd one , I dare say ,\" said Lucy to her one day , as\n",
      "an inquiry into her character .\" \" I dare say you are , and I am sure I do not\n",
      "ave had no idea of it before ; for I dare say he never dropped the smallest hi\n",
      "or she would never approve of it , I dare say . I shall have no fortune , and \n",
      " to Elinor . \" You know his hand , I dare say , a charming one it is ; but tha\n",
      "o well as usual .-- He was tired , I dare say , for he had just filled the she\n",
      "talking of their favourite beaux , I dare say .\" \" No sister ,\" cried Lucy , \"\n",
      "ng significantly round at them , \" I dare say Lucy ' s beau is quite as modest\n",
      " , for you are a party concerned . I dare say you have seen enough of Edward t\n",
      "h pleasure to meet you there ! But I dare say you will go for all that . To be\n",
      "\n"
     ]
    }
   ],
   "source": [
    "# Let's try looking at some of these recent words in a Concordance view\n",
    "sas.concordance(\"affectionately\")\n",
    "print()\n",
    "\n",
    "sas.concordance(\"correspondence\")\n",
    "print()\n",
    "\n",
    "sas.concordance(\"dare\")\n",
    "print()\n"
   ]
  },
  {
   "cell_type": "markdown",
   "metadata": {},
   "source": [
    "** 3.4 Other Exploration Task/Views **"
   ]
  },
  {
   "cell_type": "code",
   "execution_count": 40,
   "metadata": {},
   "outputs": [
    {
     "name": "stdout",
     "output_type": "stream",
     "text": [
      "attention time regard mother love heart opinion sister wishes wife\n",
      "arrival marianne kindness family it marriage sisters sake conduct mind\n"
     ]
    }
   ],
   "source": [
    "# look at words similiar to a word\n",
    "sas.similar(\"affection\")"
   ]
  },
  {
   "cell_type": "code",
   "execution_count": 44,
   "metadata": {},
   "outputs": [
    {
     "data": {
      "image/png": "[encoded data removed]",
      "text/plain": [
       "<matplotlib.figure.Figure at 0x1fb6bfc6080>"
      ]
     },
     "metadata": {},
     "output_type": "display_data"
    }
   ],
   "source": [
    "# these 2 lines let us size the freq dist plot\n",
    "import matplotlib.pyplot as plt\n",
    "plt.figure(figsize=(15, 4)) \n",
    "\n",
    "# look at words as they appear over time in the book/document\n",
    "sas.dispersion_plot([\"sense\", \"love\", \"heart\", \"listen\", \"man\", \"woman\"])"
   ]
  },
  {
   "cell_type": "markdown",
   "metadata": {},
   "source": [
    "## 4. Building Features ##"
   ]
  },
  {
   "cell_type": "markdown",
   "metadata": {},
   "source": [
    "** 4.1 Bag-of-Words (BOW) **\n",
    "\n",
    "One of the simplest features when dealing with multiple texts (like multiple documents, or multiple sentences within a document), is called Bag-of-Words.  It builds a vocabular from each word in the set of texts, and then a feature for each word, indicate the presence/absence of that word within each text. Sometimes, the count of the word is used in place of a presence flag.\n",
    "\n",
    "A common way to represent a set of features like this is called a One-Hot vector.  For example, lets say our vocabular from our set of texts is:\n",
    "\n",
    "    today, here, I, a, fine, sun, moon, bird, saw\n",
    "\n",
    "The sentence we want to build a BOW for is:\n",
    "\n",
    "    I saw a bird today.  \n",
    "    \n",
    "Using a 1/0 for each word in the vocabulary, our BOW encoded as a one-hot vector would be:\n",
    "\n",
    "    1 0 1 1 0 0 1 1\n"
   ]
  },
  {
   "cell_type": "markdown",
   "metadata": {},
   "source": [
    "** 4.2 N-Grams **\n",
    "\n",
    "N-grams represent the sequence of N words that are found in a text.  They are commonly used as a model of the text language since they represent the frequence of words/phrases appearing in the text.  \n",
    "\n",
    "Common types of N-grams:\n",
    "\n",
    "unigrams   - these are the set of single words appearing in the text\n",
    "bigrams    - these are the set of word pairs, like \"good day\" or \"big deal\", from the text\n",
    "trigrams   - these are the set of word triples, like \"really good food\", from the text\n",
    "\n",
    "To build bigrams for a text, you need to extract all possible word pairs from the text and count how many times each pair occurs.  Then, you can use the top N words (1000), or the top percent (50%) as your language model."
   ]
  },
  {
   "cell_type": "markdown",
   "metadata": {},
   "source": [
    "** 4.3 Morphological Parsing **\n",
    "\n",
    "**Goal**: convert input word into its morphological parts.  For example:  â€œgeeseâ€ would return goose + N + PL  \n",
    "\n",
    "\n",
    "Morphological Parsing:\n",
    "geese  ->  goose + N + PL  \n",
    "caught ->  catch + V + PastPart  \n",
    "\n",
    "Morphological parsing is related to stemming, but instead of mapping the word variants to a stem word, it labels  \n",
    "the stem word and its affixes.\n",
    "\n",
    "Morphological parsing, even for English, is quite involved  \n"
   ]
  },
  {
   "cell_type": "markdown",
   "metadata": {},
   "source": [
    "** 4.4 TD/IDF **\n",
    "\n",
    "TD/IDF stands for Term Document Inverse Document Frequency.  \"Term\" here can be thought of as a word.  This is a measure of the  relative importance of a word within a document, in the context of multiple documents.  \n",
    "\n",
    "We start with the TD part - this is simply a normalized frequency of the word in the document:  \n",
    "\n",
    "   - (word count in document) / (total words in document)  \n",
    "   \n",
    "The IDF is a weighting of the uniquess of the word across all of the documents.  Here is the complete formula of TD/IDF:  \n",
    "\n",
    "   - td_idf(t,d) = wc(t,d)/wc(d) / dc(t)/dc()  \n",
    "\n",
    "where:  \n",
    "   - wc(t,d) = # of occurrences of term t in doc d  \n",
    "   - wc(d) = # of words in doc d  \n",
    "   - dc(t) = # of docs that contain at least 1 occurrence of term t  \n",
    "   - dc() = # of docs in collection  "
   ]
  },
  {
   "cell_type": "markdown",
   "metadata": {},
   "source": [
    "** 4.5 Word Sense Disambiguation (WSD) **\n",
    "\n",
    "Related to POS tagging, WSD is use to distingish between difference senses of a word. Each sense of the word\n",
    "uses the same POS tag, but means something different.  For example:\n",
    "\n",
    "   - she served the King\n",
    "   - she served the ball  \n",
    "    \n",
    "   - he took his money to the bank\n",
    "   - he took his canoe to the bank  \n",
    "     \n",
    "   - I play bass guitar\n",
    "   - I fish for bass  \n"
   ]
  },
  {
   "cell_type": "markdown",
   "metadata": {},
   "source": [
    "** 4.6 Anaphora Resolution **  \\\n",
    "\n",
    "Examples:\n",
    "   - Sam and Bill left with the toys.  They were later found.\n",
    "\n",
    "Who does \"they\" refer to in the above sentence?  Sam and Bill, or the toys?\n"
   ]
  },
  {
   "cell_type": "markdown",
   "metadata": {},
   "source": [
    "** 4.7 Part-of-speech (POS) Tagging **\n",
    "\n",
    "   - Verb, noun, adjective, etc.\n",
    "   - Simple tag set: 19 word classes\n",
    "   \n",
    "â€œThey refuse to permit us to obtain a refuse permitâ€\n",
    "\n",
    "What tagset to use?\n",
    "  - Brown Corpus (87 tags)\n",
    "  - C5 tagset (61 tags)\n",
    "  - Penn Treebank (45 tags)\n",
    "  \n",
    "Types of Taggers\n",
    "  - Rule-based (e.g., regular expression)\n",
    "  - Lookup (Unigram)\n",
    "  - N-Gram\n",
    "  - Hybrid and Backoff\n",
    "  - Brill Tagger (learns rules)\n",
    "  - HMM Tagger\n",
    " "
   ]
  },
  {
   "cell_type": "markdown",
   "metadata": {},
   "source": [
    "** HMM Tagger **\n",
    "\n",
    "Previosly, we introduce Hidden Markov Models with a weather example.  Here, we will show an example of how we can use a HMM to create a POS tagger.\n"
   ]
  },
  {
   "cell_type": "code",
   "execution_count": null,
   "metadata": {},
   "outputs": [],
   "source": [
    "# before building the HMM Tagger, let's warm up with implementing our HMM weather example here\n",
    "\n",
    "# states\n",
    "start = -1; cold = 0; normal = 1; hot = 2; stateCount = 3\n",
    "stateNames = [\"cold\", \"normal\", \"hot\"]\n",
    "\n",
    "# outputs\n",
    "hotChoc = 0; soda=1; iceCream = 2\n",
    "\n",
    "timeSteps = 7\n",
    "\n",
    "# state transition probabilities\n",
    "trans = {}\n",
    "trans[(start, cold)] = .1\n",
    "trans[(start, normal)] = .8\n",
    "trans[(start, hot)] = .1\n",
    "\n",
    "trans[(cold, cold)] = .7\n",
    "trans[(cold, normal)] = .1\n",
    "trans[(cold, hot)] = .2\n",
    "\n",
    "trans[(normal, cold)] = .3\n",
    "trans[(normal, normal)] = .4\n",
    "trans[(normal, hot)] = .3\n",
    "\n",
    "trans[(hot, cold)] = .2\n",
    "trans[(hot, normal)] = .4\n",
    "trans[(hot, hot)] = .4\n",
    "\n",
    "# state outputs\n",
    "output = {}\n",
    "output[(cold, hotChoc)] = .7\n",
    "output[(cold, soda)] = .3\n",
    "output[(cold, iceCream)] = 0\n",
    "\n",
    "output[(normal, hotChoc)] = .1\n",
    "output[(normal, soda)] = .7\n",
    "output[(normal, iceCream)] = .2\n",
    "\n",
    "output[(hot, hotChoc)] = 0\n",
    "output[(hot, soda)] = .6\n",
    "output[(hot, iceCream)] = .4\n",
    "\n",
    "diary = [soda, soda, hotChoc, iceCream, soda, soda, iceCream]\n",
    "\n",
    "# manage cell values and back pointers\n",
    "cells = {}\n",
    "backStates = {}\n",
    "\n",
    "def computeMaxPrev(t, sNext):\n",
    "    maxValue = 0\n",
    "    maxState = 0\n",
    "    \n",
    "    for s in range(stateCount):\n",
    "        value = cells[t, s] * trans[(s, sNext)]\n",
    "        if (s == 0 or value > maxValue):\n",
    "            maxValue = value\n",
    "            maxState = s\n",
    "            \n",
    "    return (maxValue, maxState)\n",
    "    \n",
    "def viterbi(trans, output, diary):\n",
    "\n",
    "    # special handling for t=0 which have no prior states)\n",
    "    for s in range(stateCount):\n",
    "        cells[(0, s)] = trans[(start, s)] * output[(s, diary[0])]\n",
    "        \n",
    "    # handle rest of time steps\n",
    "    for t in range(1, timeSteps):\n",
    "        for s in range(stateCount):\n",
    "            maxValue, maxState = computeMaxPrev(t-1, s)\n",
    "            backStates[(t,s)] = maxState\n",
    "            cells[(t, s)] = maxValue * output[(s, diary[t])]\n",
    "            #print(\"t=\", t, \"s=\", s, \"maxValue=\", maxValue, \"maxState=\", maxState, \"output=\", output[(s, diary[t])], \"equals=\", cells[(t, s)])\n",
    "        \n",
    "    # walk thru cells backwards to get most probable path\n",
    "    path = []\n",
    "    \n",
    "    for tt in range(timeSteps):\n",
    "        t = timeSteps - tt - 1    # step t backwards over timesteps\n",
    "        maxValue = 0\n",
    "        maxState = 0\n",
    "        \n",
    "        for s in range(stateCount):\n",
    "            value = cells[t, s] \n",
    "            if (s == 0 or value > maxValue):\n",
    "                maxValue = value\n",
    "                maxState = s\n",
    "                \n",
    "        path.insert(0, maxState)\n",
    "        \n",
    "    return path\n",
    "\n",
    "# test our algorithm on the weather problem\n",
    "path = viterbi(trans, output, diary)\n",
    "\n",
    "print(\"Weather by days:\")\n",
    "for i in range(timeSteps):\n",
    "    state = path[i]\n",
    "    print(\"  day=\", i+1, stateNames[state])"
   ]
  },
  {
   "cell_type": "markdown",
   "metadata": {},
   "source": [
    "** HMM Tagger Overview**\n",
    "\n",
    "We are going to use a Hidden Markov Model to help us assign Part-of-Speech tags (like noun, verb, adjective, etc.) to words in a sentence.  We treat the human author of the sentence as moving between different meaning states (POS tags) as they compose the sentence.  Those state are hidden from us, but we observe the words of the sentence (the output of the meaning states).\n",
    "\n",
    "In our example here, we will use 4 POS tags from the 87 tag Brown corpus:\n",
    "\n",
    "   - VB   (verb, base form)\n",
    "   - TO   (infinitive marker)\n",
    "   - NN   (common singular noun)\n",
    "   - PPSS (other nominative pronoun)\n",
    "\n",
    "We are given the state-to-state transition probabilities and the state-output probabilities (see next code cell).  We are also given the sentence to decode: \"I WANT TO RACE\"."
   ]
  },
  {
   "cell_type": "code",
   "execution_count": null,
   "metadata": {},
   "outputs": [],
   "source": [
    "# OK, here is our HMM POS Tagger for this example\n",
    "\n",
    "# states\n",
    "start = -1; VB = 0; TO = 1; NN = 2; PPSS = 3; stateCount = 4\n",
    "stateNames = [\"VB\", \"TO\", \"NN\", \"PPSS\"]\n",
    "\n",
    "# outputs\n",
    "I = 0; WANT = 1; To = 2; RACE=3\n",
    "\n",
    "timeSteps = 4\n",
    "\n",
    "# state transition probabilities\n",
    "trans = {}\n",
    "trans[(start, VB)] = .19\n",
    "trans[(start, TO)] = .0043\n",
    "trans[(start, NN)] = .041\n",
    "trans[(start, PPSS)] = .067\n",
    "\n",
    "trans[(VB, VB)] = .0038\n",
    "trans[(VB, TO)] = .035\n",
    "trans[(VB, NN)] = .047\n",
    "trans[(VB, PPSS)] = .0070\n",
    "\n",
    "trans[(TO, VB)] = .83\n",
    "trans[(TO, TO)] = 0\n",
    "trans[(TO, NN)] = .00047\n",
    "trans[(TO, PPSS)] = 0\n",
    "\n",
    "trans[(NN, VB)] = .0040\n",
    "trans[(NN, TO)] = .016\n",
    "trans[(NN, NN)] = .087\n",
    "trans[(NN, PPSS)] = .0045\n",
    "\n",
    "trans[(PPSS, VB)] = .23\n",
    "trans[(PPSS, TO)] = .00079\n",
    "trans[(PPSS, NN)] = .0012\n",
    "trans[(PPSS, PPSS)] = .00014\n",
    "\n",
    "# state outputs\n",
    "output = {}\n",
    "output[(VB, I)] = 0\n",
    "output[(VB, WANT)] = .0093\n",
    "output[(VB, To)] = 0\n",
    "output[(VB, RACE)] = .00012\n",
    "\n",
    "output[(TO, I)] = 0\n",
    "output[(TO, WANT)] = 0\n",
    "output[(TO, To)] = .99\n",
    "output[(TO, RACE)] = 0\n",
    "\n",
    "output[(NN, I)] = 0\n",
    "output[(NN, WANT)] = .000054\n",
    "output[(NN, To)] = 0\n",
    "output[(NN, RACE)] = .00057\n",
    "\n",
    "output[(PPSS, I)] = .37\n",
    "output[(PPSS, WANT)] = 0\n",
    "output[(PPSS, To)] = 0\n",
    "output[(PPSS, RACE)] = 0\n",
    "\n",
    "\n",
    "sentence = [I, WANT, To, RACE]\n",
    "words = [\"I\", \"WANT\", \"TO\", \"RACE\"]\n",
    "\n",
    "# manage cell values and back pointers\n",
    "cells = {}\n",
    "backStates = {}\n",
    "\n",
    "def computeMaxPrev(t, sNext):\n",
    "    maxValue = 0\n",
    "    maxState = 0\n",
    "    \n",
    "    for s in range(stateCount):\n",
    "        value = cells[t, s] * trans[(s, sNext)]\n",
    "        if (s == 0 or value > maxValue):\n",
    "            maxValue = value\n",
    "            maxState = s\n",
    "            \n",
    "    return (maxValue, maxState)\n",
    "    \n",
    "def viterbi(trans, output, sentence):\n",
    "\n",
    "    # special handling for t=0 which have no prior states)\n",
    "    for s in range(stateCount):\n",
    "        cells[(0, s)] = trans[(start, s)] * output[(s, sentence[0])]\n",
    "        \n",
    "    # handle rest of time steps\n",
    "    for t in range(1, timeSteps):\n",
    "        for s in range(stateCount):\n",
    "            maxValue, maxState = computeMaxPrev(t-1, s)\n",
    "            backStates[(t,s)] = maxState\n",
    "            cells[(t, s)] = maxValue * output[(s, sentence[t])]\n",
    "            #print(\"t=\", t, \"s=\", s, \"maxValue=\", maxValue, \"maxState=\", maxState, \"output=\", output[(s, sentence[t])], \"equals=\", cells[(t, s)])\n",
    "        \n",
    "    # walk thru cells backwards to get most probable path\n",
    "    path = []\n",
    "    \n",
    "    for tt in range(timeSteps):\n",
    "        t = timeSteps - tt - 1    # step t backwards over timesteps\n",
    "        maxValue = 0\n",
    "        maxState = 0\n",
    "        \n",
    "        for s in range(stateCount):\n",
    "            value = cells[t, s] \n",
    "            if (s == 0 or value > maxValue):\n",
    "                maxValue = value\n",
    "                maxState = s\n",
    "                \n",
    "        path.insert(0, maxState)\n",
    "        \n",
    "    return path\n",
    "\n",
    "# test our algorithm on the POS TAG data\n",
    "path = viterbi(trans, output, sentence)\n",
    "\n",
    "print(\"Tagged Sentence:\")\n",
    "for i in range(timeSteps):\n",
    "    state = path[i]\n",
    "    print(\"  word=\", words[i], \"\\ttag=\", stateNames[state])\n",
    "    "
   ]
  },
  {
   "cell_type": "code",
   "execution_count": null,
   "metadata": {},
   "outputs": [],
   "source": [
    "# Here is an example of using the NLTK POS tagger\n",
    "import nltk\n",
    "\n",
    "nltk.pos_tag(\"they refuse to permit us to obtain the refuse permit\".split())"
   ]
  },
  {
   "cell_type": "code",
   "execution_count": null,
   "metadata": {},
   "outputs": [],
   "source": [
    "# POS tagging with supervised learning, using word suffix parts as features\n",
    "import nltk\n",
    "\n",
    "# start by finding the most common 1, 2, and 3 character suffixes of words (using Brown corpus of 1.1 million words)\n",
    "from nltk.corpus import brown\n",
    "fd = nltk.FreqDist()        # create an empty one that we will count with\n",
    "\n",
    "for word in brown.words():\n",
    "    wl = word.lower()\n",
    "    fd[wl[-1:]] += 1\n",
    "    fd[wl[-2:]] += 1\n",
    "    fd[wl[-3:]] += 1\n",
    "\n",
    "topSuffixes = [ key for (key,value) in fd.most_common(30)]\n",
    "print(topSuffixes[:40])\n",
    "\n",
    "def pos_features(word):\n",
    "    features = {}\n",
    "    \n",
    "    for suffix in topSuffixes:\n",
    "        features[suffix] = word.lower().endswith(suffix)\n",
    "        \n",
    "    return features\n",
    "\n",
    "#pos_features(\"table\")\n",
    "\n",
    "tagWords = brown.tagged_words(categories=\"news\")\n",
    "data = [(pos_features(word), tag) for (word,tag) in tagWords]\n",
    "\n",
    "print(\"len(data)=\", len(data))\n",
    "\n",
    "dataCount = len(data)\n",
    "trainCount = int(.8*dataCount)\n",
    "\n",
    "trainData = data[:trainCount]\n",
    "testData = data[trainCount:]\n",
    "\n",
    "dtree = nltk.DecisionTreeClassifier.train(trainData)\n",
    "#dtree = nltk.NaiveBayesClassifier.train(trainData)\n",
    "\n",
    "print(\"train accuracy=\", nltk.classify.accuracy(dtree, trainData))\n",
    "print(\"test accuracy=\", nltk.classify.accuracy(dtree, testData))\n",
    "\n",
    "print(dtree.classify(pos_features(\"cats\")))\n",
    "print(dtree.classify(pos_features(\"house\")))\n",
    "\n",
    "print(dtree.pseudocode(depth=4))\n"
   ]
  },
  {
   "cell_type": "markdown",
   "metadata": {},
   "source": [
    "## 5. Classical NLP Applications ##"
   ]
  },
  {
   "cell_type": "markdown",
   "metadata": {},
   "source": [
    "** 5.1 Name Gender Classifier **\n"
   ]
  },
  {
   "cell_type": "code",
   "execution_count": null,
   "metadata": {},
   "outputs": [],
   "source": [
    "# code to build a classifier to classify names as male or female\n",
    "# demonstrates the basics of feature extraction and model building\n",
    "\n",
    "names = [(name, 'male') for name in nltk.corpus.names.words(\"male.txt\")]\n",
    "names += [(name, 'female') for name in nltk.corpus.names.words(\"female.txt\")]\n",
    "\n",
    "def extract_gender_features(name):\n",
    "    name = name.lower()\n",
    "    features = {}\n",
    "    features[\"suffix\"] = name[-1:]\n",
    "    features[\"suffix2\"] = name[-2:] if len(name) > 1 else name[0]\n",
    "    features[\"suffix3\"] = name[-3:] if len(name) > 2 else name[0]\n",
    "    #features[\"suffix4\"] = name[-4:] if len(name) > 3 else name[0]\n",
    "    #features[\"suffix5\"] = name[-5:] if len(name) > 4 else name[0]\n",
    "    #features[\"suffix6\"] = name[-6:] if len(name) > 5 else name[0]\n",
    "    features[\"prefix\"] = name[:1]\n",
    "    features[\"prefix2\"] = name[:2] if len(name) > 1 else name[0]\n",
    "    features[\"prefix3\"] = name[:3] if len(name) > 2 else name[0]\n",
    "    features[\"prefix4\"] = name[:4] if len(name) > 3 else name[0]\n",
    "    features[\"prefix5\"] = name[:5] if len(name) > 4 else name[0]\n",
    "    #features[\"wordLen\"] = len(name)\n",
    "    \n",
    "    #for letter in \"abcdefghijklmnopqrstuvwyxz\":\n",
    "    #    features[letter + \"-count\"] = name.count(letter)\n",
    "   \n",
    "    return features\n",
    "\n",
    "data = [(extract_gender_features(name), gender) for (name,gender) in names]\n",
    "\n",
    "import random\n",
    "random.shuffle(data)\n",
    "\n",
    "#print(data[:10])\n",
    "#print()\n",
    "#print(data[-10:])\n",
    "\n",
    "dataCount = len(data)\n",
    "trainCount = int(.8*dataCount)\n",
    "\n",
    "trainData = data[:trainCount]\n",
    "testData = data[trainCount:]\n",
    "bayes = nltk.NaiveBayesClassifier.train(trainData)\n",
    "\n",
    "def classify(name):\n",
    "    label = bayes.classify(extract_gender_features(name))\n",
    "    print(\"name=\", name, \"classifed as=\", label)\n",
    "\n",
    "print(\"trainData accuracy=\", nltk.classify.accuracy(bayes, trainData))\n",
    "print(\"testData accuracy=\", nltk.classify.accuracy(bayes, testData))\n",
    "\n",
    "bayes.show_most_informative_features(25)"
   ]
  },
  {
   "cell_type": "code",
   "execution_count": null,
   "metadata": {},
   "outputs": [],
   "source": [
    "# print gender classifier errors so we can design new features to identify the cases\n",
    "errors = []\n",
    "\n",
    "for (name,label) in names:\n",
    "    if bayes.classify(extract_gender_features(name)) != label:\n",
    "        errors.append({\"name\": name, \"label\": label})\n",
    "\n",
    "#errors\n"
   ]
  },
  {
   "cell_type": "markdown",
   "metadata": {},
   "source": [
    "** 5.2 Sentiment Analysis **"
   ]
  },
  {
   "cell_type": "code",
   "execution_count": null,
   "metadata": {},
   "outputs": [],
   "source": [
    "# movie reviews / sentiment analysis - part #1\n",
    "from nltk.corpus import movie_reviews as reviews\n",
    "import random\n",
    "\n",
    "docs = [(list(reviews.words(id)), cat)  for cat in reviews.categories() for id in reviews.fileids(cat)]\n",
    "random.shuffle(docs)\n",
    "\n",
    "#print([ (len(d[0]), d[0][:2], d[1]) for d in docs[:10]])\n",
    "\n",
    "fd = nltk.FreqDist(word.lower() for word in reviews.words())\n",
    "topKeys = [ key for (key,value) in fd.most_common(2000)]\n"
   ]
  },
  {
   "cell_type": "code",
   "execution_count": null,
   "metadata": {},
   "outputs": [],
   "source": [
    "# movie reviews sentiment analysis - part #2\n",
    "import nltk\n",
    "\n",
    "\n",
    "def review_features(doc):\n",
    "    docSet = set(doc)\n",
    "    features = {}\n",
    "    \n",
    "    for word in topKeys:\n",
    "        features[word] = (word in docSet)\n",
    "        \n",
    "    return features\n",
    "\n",
    "#review_features(reviews.words(\"pos/cv957_8737.txt\"))\n",
    "\n",
    "data = [(review_features(doc), label) for (doc,label) in docs]\n",
    "\n",
    "dataCount = len(data)\n",
    "trainCount = int(.8*dataCount)\n",
    "\n",
    "trainData = data[:trainCount]\n",
    "testData = data[trainCount:]\n",
    "bayes2 = nltk.NaiveBayesClassifier.train(trainData)\n",
    "\n",
    "print(\"train accuracy=\", nltk.classify.accuracy(bayes2, trainData))\n",
    "print(\"test accuracy=\", nltk.classify.accuracy(bayes2, testData))\n",
    "\n",
    "bayes2.show_most_informative_features(20)\n"
   ]
  },
  {
   "cell_type": "markdown",
   "metadata": {},
   "source": [
    "** 5.3 Named Entity Recognition (NER) **\n",
    "\n",
    "Popular Named Entity Types:\n",
    "  - ORGANIZATION\n",
    "  - PERSON\n",
    "  - LOCATION\n",
    "  - GPE\n",
    "  - DATE\n",
    "  \n",
    "Named Entity Extraction Techniques:\n",
    "  - Chunking (tag pattern to group)\n",
    "  - Chinking (tag pattern to omit)\n",
    "  - Nested chunks (recursion)\n",
    "  - Hand-crafted rules\n",
    "  - Rules learned from data"
   ]
  },
  {
   "cell_type": "code",
   "execution_count": 47,
   "metadata": {},
   "outputs": [
    {
     "name": "stdout",
     "output_type": "stream",
     "text": [
      "Tree('S', [Tree('NP', [('the', 'DT'), ('little', 'JJ'), ('yellow', 'JJ'), ('dog', 'NN')]), ('barked', 'VBD'), ('at', 'IN'), Tree('NP', [('the', 'DT'), ('cat', 'NN')])])\n"
     ]
    }
   ],
   "source": [
    "# Named Entity Regcognition (NER) \n",
    "# processes sentences and produces (entity, relation, entity) triples!\n",
    "import nltk\n",
    "\n",
    "# first, process the document by separating the text into sentences, then words within sentences, then tag words by sentence\n",
    "def preprocess(doc):\n",
    "    sents = nltk.sent_tokenize(doc) \n",
    "    sents2 = [nltk.word_tokenize(sent) for sent in sents]\n",
    "    sents3 = [nltk.pos_tag(sent) for sent in sents2]\n",
    "    \n",
    "# we are going to use a technique called CHUNKING where we label sequences of POS tags as a high level tag, like a \n",
    "# noun phrase (NP).  \n",
    "\n",
    "# here we test our idea with a simple sentence, and a grammar for detectecting NP.  The grammar:\n",
    "#  <NP>  ::= [ <DT> ] [ <JJ list> ] <NN>\n",
    "\n",
    "tagged_sent = [(\"the\", \"DT\"), (\"little\", \"JJ\"), (\"yellow\", \"JJ\"), (\"dog\", \"NN\"), (\"barked\", \"VBD\"), (\"at\", \"IN\"),\n",
    "              (\"the\", \"DT\"), (\"cat\", \"NN\")]\n",
    "\n",
    "#np_grammar = \"NP: {<DT>?<JJ>*<NN>}\"\n",
    "#np_grammar = \"NP: {<DT>?<JJ.*>*<NN.*>*}\"\n",
    "\n",
    "np_grammar = r\"\"\" \n",
    "    NP:  \n",
    "      {<DT|PP\\$>?<JJ>*<NN>}\n",
    "      {<NPP>+}\n",
    "      \"\"\"\n",
    "\n",
    "parser = nltk.RegexpParser(np_grammar)\n",
    "result = parser.parse(tagged_sent)\n",
    "\n",
    "print(result.__repr__())\n"
   ]
  }
 ],
 "metadata": {
  "anaconda-cloud": {},
  "kernelspec": {
   "display_name": "Python 3",
   "language": "python",
   "name": "python3"
  },
  "language_info": {
   "codemirror_mode": {
    "name": "ipython",
    "version": 3
   },
   "file_extension": ".py",
   "mimetype": "text/x-python",
   "name": "python",
   "nbconvert_exporter": "python",
   "pygments_lexer": "ipython3",
   "version": "3.7.3"
  }
 },
 "nbformat": 4,
 "nbformat_minor": 1
}
