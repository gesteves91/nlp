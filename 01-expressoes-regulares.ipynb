{
 "cells": [
  {
   "cell_type": "markdown",
   "metadata": {
    "colab_type": "text",
    "id": "1ZAkh5TjKzMb"
   },
   "source": [
    "#Expressões Regulares\n",
    "\n",
    "Expressões regulares são padrões de correspondência de texto descritos com uma sintaxe formal. Você frequentemente ouvirá expressões regulares chamadas de 'regex' ou 'regexp' na literatura. Expressões regulares podem incluir uma variedade de regras, desde encontrar repetições, correspondência de texto além de outras funcionalidades. À medida que avança no Python descrito nesse notebook, você verá que muitos dos seus problemas de análise podem ser resolvidos com expressões regulares.\n",
    "\n",
    "A sintaxe adotada pelo Python para lidar com expressões regulares é muito similar a adotada pelo Perl. \n"
   ]
  },
  {
   "cell_type": "markdown",
   "metadata": {
    "colab_type": "text",
    "id": "pNnJs9fFKzMe"
   },
   "source": [
    "## Procurando por padrões no Texto\n",
    "\n",
    "Um dos usos mais comuns para o módulo re é encontrar padrões no texto. Vamos fazer um exemplo rápido de usar o método de pesquisa no re módulo para encontrar algum texto:"
   ]
  },
  {
   "cell_type": "code",
   "execution_count": 7,
   "metadata": {
    "colab": {
     "base_uri": "https://localhost:8080/",
     "height": 196
    },
    "colab_type": "code",
    "id": "jkG0htycKzMg",
    "outputId": "87bd113b-4b11-444d-a809-862b2ffdd997"
   },
   "outputs": [
    {
     "ename": "SyntaxError",
     "evalue": "invalid syntax (<ipython-input-7-4fb417afccf0>, line 9)",
     "output_type": "error",
     "traceback": [
      "\u001b[0;36m  File \u001b[0;32m\"<ipython-input-7-4fb417afccf0>\"\u001b[0;36m, line \u001b[0;32m9\u001b[0m\n\u001b[0;31m    print 'Procurando por \"%s\" em: \\n\"%s\"' % (pattern, text),\u001b[0m\n\u001b[0m                                         ^\u001b[0m\n\u001b[0;31mSyntaxError\u001b[0m\u001b[0;31m:\u001b[0m invalid syntax\n"
     ]
    }
   ],
   "source": [
    "import re\n",
    "\n",
    "patterns = ['termo1', 'termo2']\n",
    "\n",
    "# Texto para fazer o parse\n",
    "text = 'Essa seria uma string com o termo1, mas sem o outro termo.'\n",
    "\n",
    "for pattern in patterns:\n",
    "    print 'Procurando por \"%s\" em: \\n\"%s\"' % (pattern, text),\n",
    "    \n",
    "    # Check pelo padrão\n",
    "    if re.search(pattern,  text):\n",
    "        print '\\n'\n",
    "        print 'Match foi encontrado.\\n'\n",
    "    else:\n",
    "        print '\\n'\n",
    "        print 'Sem Match encontrado.\\n'"
   ]
  },
  {
   "cell_type": "markdown",
   "metadata": {
    "colab_type": "text",
    "id": "HRZK13xAKzMr"
   },
   "source": [
    "\n",
    "Agora vimos que re.search() pegará o pattern, fará a varredura do texto e retornará um objeto **Match**. Se nenhum padrão for encontrado, um **None** será retornado. Para dar uma imagem mais clara desse objeto de correspondência, confira a célula abaixo:\n"
   ]
  },
  {
   "cell_type": "code",
   "execution_count": 2,
   "metadata": {
    "colab": {
     "base_uri": "https://localhost:8080/",
     "height": 35
    },
    "colab_type": "code",
    "id": "zF_64u1KKzMt",
    "outputId": "84c4b5da-8568-4eef-e14a-691d4003eb59"
   },
   "outputs": [
    {
     "ename": "NameError",
     "evalue": "name 're' is not defined",
     "output_type": "error",
     "traceback": [
      "\u001b[0;31m---------------------------------------------------------------------------\u001b[0m",
      "\u001b[0;31mNameError\u001b[0m                                 Traceback (most recent call last)",
      "\u001b[0;32m<ipython-input-2-5e0cc4b647ae>\u001b[0m in \u001b[0;36m<module>\u001b[0;34m\u001b[0m\n\u001b[1;32m      3\u001b[0m \u001b[0mtext\u001b[0m \u001b[0;34m=\u001b[0m \u001b[0;34m'Essa string tem o termo1, mas não tem o termo2.'\u001b[0m\u001b[0;34m\u001b[0m\u001b[0;34m\u001b[0m\u001b[0m\n\u001b[1;32m      4\u001b[0m \u001b[0;34m\u001b[0m\u001b[0m\n\u001b[0;32m----> 5\u001b[0;31m \u001b[0mmatch\u001b[0m \u001b[0;34m=\u001b[0m \u001b[0mre\u001b[0m\u001b[0;34m.\u001b[0m\u001b[0msearch\u001b[0m\u001b[0;34m(\u001b[0m\u001b[0mpattern\u001b[0m\u001b[0;34m,\u001b[0m \u001b[0mtext\u001b[0m\u001b[0;34m)\u001b[0m\u001b[0;34m\u001b[0m\u001b[0;34m\u001b[0m\u001b[0m\n\u001b[0m\u001b[1;32m      6\u001b[0m \u001b[0;34m\u001b[0m\u001b[0m\n\u001b[1;32m      7\u001b[0m \u001b[0mtype\u001b[0m\u001b[0;34m(\u001b[0m\u001b[0mmatch\u001b[0m\u001b[0;34m)\u001b[0m\u001b[0;34m\u001b[0m\u001b[0;34m\u001b[0m\u001b[0m\n",
      "\u001b[0;31mNameError\u001b[0m: name 're' is not defined"
     ]
    }
   ],
   "source": [
    "pattern = 'termo1'\n",
    "\n",
    "text = 'Essa string tem o termo1, mas não tem o termo2.'\n",
    "\n",
    "match = re.search(pattern, text)\n",
    "\n",
    "type(match)"
   ]
  },
  {
   "cell_type": "markdown",
   "metadata": {
    "colab_type": "text",
    "id": "uyZAAH_jKzM1"
   },
   "source": [
    "\n",
    "Esse objeto **Match** retornado pelo método search() é mais do que apenas um Boolean ou None, ele contém informações sobre a correspondência, incluindo a string de entrada original, a expressão regular que foi usada e a localização da correspondência. Vamos ver os métodos que podemos usar no objeto de correspondência:"
   ]
  },
  {
   "cell_type": "code",
   "execution_count": 7,
   "metadata": {
    "colab": {
     "base_uri": "https://localhost:8080/",
     "height": 35
    },
    "colab_type": "code",
    "id": "hYtUhnz5KzM3",
    "outputId": "65343a33-4444-4bec-e478-5e90c2e7b00c"
   },
   "outputs": [
    {
     "data": {
      "text/plain": [
       "18"
      ]
     },
     "execution_count": 7,
     "metadata": {
      "tags": []
     },
     "output_type": "execute_result"
    }
   ],
   "source": [
    "# Mostra o início do Match\n",
    "match.start()"
   ]
  },
  {
   "cell_type": "code",
   "execution_count": 8,
   "metadata": {
    "colab": {
     "base_uri": "https://localhost:8080/",
     "height": 35
    },
    "colab_type": "code",
    "id": "VmbxhT0WKzM-",
    "outputId": "c27f2328-b9f5-4c47-874d-24ef48537350"
   },
   "outputs": [
    {
     "data": {
      "text/plain": [
       "24"
      ]
     },
     "execution_count": 8,
     "metadata": {
      "tags": []
     },
     "output_type": "execute_result"
    }
   ],
   "source": [
    "# Mostra a posição final do Match\n",
    "match.end()"
   ]
  },
  {
   "cell_type": "markdown",
   "metadata": {
    "colab_type": "text",
    "id": "xDBPQqFLKzNF"
   },
   "source": [
    "## Separação da Expressão Regular\n",
    "\n",
    "Vamos ver como podemos dividir com a re sintaxe. Isso deve ser semelhante a como utilizamos o método split() com strings."
   ]
  },
  {
   "cell_type": "code",
   "execution_count": 10,
   "metadata": {
    "colab": {
     "base_uri": "https://localhost:8080/",
     "height": 53
    },
    "colab_type": "code",
    "id": "uIi__CX-KzNH",
    "outputId": "cdcfa682-d9d2-48ed-eace-bf08a22ad139"
   },
   "outputs": [
    {
     "data": {
      "text/plain": [
       "['Qual o nome de dominio do seguinte endereco de email: geanderson',\n",
       " 'gmail.com']"
      ]
     },
     "execution_count": 10,
     "metadata": {
      "tags": []
     },
     "output_type": "execute_result"
    }
   ],
   "source": [
    "# A partir de qual caractere queremos separar\n",
    "split_term = '@'\n",
    "\n",
    "frase = 'Qual o nome de dominio do seguinte endereco de email: geanderson@gmail.com'\n",
    "\n",
    "# Divide a frase\n",
    "re.split(split_term, frase)"
   ]
  },
  {
   "cell_type": "markdown",
   "metadata": {
    "colab_type": "text",
    "id": "vm8o-MtuKzNQ"
   },
   "source": [
    "Observe como re.split() retorna uma lista com o termo a ser removido e os termos na lista são uma versão dividida da string. \n",
    "\n",
    "## Encontrando todas as instâncias de um padrão\n",
    "\n",
    "Você pode usar re.findall() para encontrar todas as instâncias de um padrão em uma string. Por exemplo:"
   ]
  },
  {
   "cell_type": "code",
   "execution_count": 12,
   "metadata": {
    "colab": {
     "base_uri": "https://localhost:8080/",
     "height": 35
    },
    "colab_type": "code",
    "id": "Ahh7U90BKzNS",
    "outputId": "218b3678-50bd-4bf5-927a-073ab3a70a28"
   },
   "outputs": [
    {
     "data": {
      "text/plain": [
       "['match', 'match']"
      ]
     },
     "execution_count": 12,
     "metadata": {
      "tags": []
     },
     "output_type": "execute_result"
    }
   ],
   "source": [
    "# Retornar uma lista de todos os matches\n",
    "re.findall('match','frase de teste com match no meio e no final outro match')"
   ]
  },
  {
   "cell_type": "markdown",
   "metadata": {
    "colab_type": "text",
    "id": "6-Ns_fFnKzNl"
   },
   "source": [
    "## re Sintaxe\n",
    "\n",
    "Expressões regulares suportam uma enorme variedade de padrões simplesmente localizando onde uma única string ocorreu.\n",
    "\n",
    "Podemos usar *metacaracteres* junto com re para encontrar tipos específicos de padrões.\n",
    "\n",
    "Como estaremos testando vários formulários de re-sintaxe, vamos criar uma função que imprima os resultados, dada uma lista de várias expressões regulares e uma frase para analisar:"
   ]
  },
  {
   "cell_type": "code",
   "execution_count": 0,
   "metadata": {
    "colab": {},
    "colab_type": "code",
    "id": "PttDsJ1UKzNn"
   },
   "outputs": [],
   "source": [
    "def multi_re_find(patterns, phrase):\n",
    "    '''\n",
    "    Pega uma lista de padrões regex\n",
    "    Imprime a lista de todos os matches\n",
    "    '''\n",
    "    for pattern in patterns:\n",
    "        print 'Procurando a frase usando o re check: %r' %pattern\n",
    "        print re.findall(pattern, phrase)\n",
    "        print '\\n'"
   ]
  },
  {
   "cell_type": "markdown",
   "metadata": {
    "colab_type": "text",
    "id": "SJp7o4zhKzNu"
   },
   "source": [
    "###Reperatição da Sintaxe\n",
    "\n",
    "Existem cinco maneiras de expressar a repetição em um padrão:\n",
    "\n",
    "    1.) Um padrão seguido pelo meta-caractere * é repetido zero ou mais vezes.\n",
    "    2.) Substitua o * por + e o padrão deve aparecer pelo menos uma vez.\n",
    "    3.) Usando ? significa que o padrão aparece zero ou uma vez.\n",
    "    4.) Para um número específico de ocorrências, use {m} após o padrão, onde m é substituído pelo número de vezes que o padrão deve se repetir.\n",
    "    5.) Use {m, n} onde m é o número mínimo de repetições e n é o máximo. Saída de n ({m,}) significa que o valor aparece pelo menos m vezes, sem máximo.\n",
    "    \n",
    "Agora vamos ver um exemplo de cada um deles usando nossa função multi_re_find:"
   ]
  },
  {
   "cell_type": "code",
   "execution_count": 15,
   "metadata": {
    "colab": {
     "base_uri": "https://localhost:8080/",
     "height": 374
    },
    "colab_type": "code",
    "id": "Uq_BhUaiKzNw",
    "outputId": "3baff5f6-6983-4c4a-b372-d22b682bc65a"
   },
   "outputs": [
    {
     "name": "stdout",
     "output_type": "stream",
     "text": [
      "Procurando a frase usando o re check: 'sd*'\n",
      "['sd', 'sd', 's', 's', 'sddd', 'sddd', 'sddd', 'sd', 's', 's', 's', 's', 's', 's', 'sdddd']\n",
      "\n",
      "\n",
      "Procurando a frase usando o re check: 'sd+'\n",
      "['sd', 'sd', 'sddd', 'sddd', 'sddd', 'sd', 'sdddd']\n",
      "\n",
      "\n",
      "Procurando a frase usando o re check: 'sd?'\n",
      "['sd', 'sd', 's', 's', 'sd', 'sd', 'sd', 'sd', 's', 's', 's', 's', 's', 's', 'sd']\n",
      "\n",
      "\n",
      "Procurando a frase usando o re check: 'sd{3}'\n",
      "['sddd', 'sddd', 'sddd', 'sddd']\n",
      "\n",
      "\n",
      "Procurando a frase usando o re check: 'sd{2,3}'\n",
      "['sddd', 'sddd', 'sddd', 'sddd']\n",
      "\n",
      "\n"
     ]
    }
   ],
   "source": [
    "test_phrase = 'sdsd..sssddd...sdddsddd...dsds...dsssss...sdddd'\n",
    "\n",
    "test_patterns = ['sd*',     # s seguido de 0 ou mais d's\n",
    "                 'sd+',     # s seguido de 1 ou mais d's\n",
    "                 'sd?',     # s seguido de 0 ou d's\n",
    "                 'sd{3}',   # s seguido de 3 d's\n",
    "                 'sd{2,3}', # s seguido de 2 para 3 d's\n",
    "                ]\n",
    "\n",
    "multi_re_find(test_patterns,test_phrase)"
   ]
  },
  {
   "cell_type": "markdown",
   "metadata": {
    "colab_type": "text",
    "id": "UVOXvCsaKzN2"
   },
   "source": [
    "\n",
    "## Conjuntos de Caracteres\n",
    "\n",
    "Conjuntos de caracteres são usados quando você deseja corresponder qualquer um de um grupo de caracteres em um ponto de entrada. Os colchetes são usados para construir entradas de conjunto de caracteres. Por exemplo: a entrada [ab] procura ocorrências de a ou b.\n",
    "Vamos ver alguns exemplos:"
   ]
  },
  {
   "cell_type": "code",
   "execution_count": 0,
   "metadata": {
    "colab": {
     "base_uri": "https://localhost:8080/",
     "height": 180
    },
    "colab_type": "code",
    "id": "QYWXFypgKzN4",
    "outputId": "970b9f96-db5a-41c0-ad74-d3b2d84d38e1"
   },
   "outputs": [
    {
     "name": "stdout",
     "output_type": "stream",
     "text": [
      "Procurando a frase usando o re check: '[sd]'\n",
      "['s', 'd', 's', 'd', 's', 's', 's', 'd', 'd', 'd', 's', 'd', 'd', 'd', 's', 'd', 'd', 'd', 'd', 's', 'd', 's', 'd', 's', 's', 's', 's', 's', 's', 'd', 'd', 'd', 'd']\n",
      "\n",
      "\n",
      "Procurando a frase usando o re check: 's[sd]+'\n",
      "['sdsd', 'sssddd', 'sdddsddd', 'sds', 'sssss', 'sdddd']\n",
      "\n",
      "\n"
     ]
    }
   ],
   "source": [
    "test_phrase = 'sdsd..sssddd...sdddsddd...dsds...dsssss...sdddd'\n",
    "\n",
    "test_patterns = ['[sd]',    # s ou d\n",
    "                 's[sd]+']   # s seguido de um ou mais s ou d\n",
    "            \n",
    "\n",
    "multi_re_find(test_patterns,test_phrase)"
   ]
  },
  {
   "cell_type": "markdown",
   "metadata": {
    "colab_type": "text",
    "id": "JyztqLWGKzN-"
   },
   "source": [
    "Faz sentido que o primeiro [sd] retorne todas as instâncias. Além disso, a segunda entrada apenas retornará qualquer coisa que comece com um s neste caso específico da entrada da frase de teste."
   ]
  },
  {
   "cell_type": "markdown",
   "metadata": {
    "colab_type": "text",
    "id": "uLR1M9TcKzOA"
   },
   "source": [
    "##Exclusão\n",
    "\n",
    "Podemos usar ^ para excluir termos, incorporando-os à notação de sintaxe de colchetes. Por exemplo: [^...] corresponderá a qualquer caractere único que não esteja entre colchetes. Vamos ver alguns exemplos:"
   ]
  },
  {
   "cell_type": "code",
   "execution_count": 0,
   "metadata": {
    "colab": {},
    "colab_type": "code",
    "id": "8NtcTW39KzOB"
   },
   "outputs": [],
   "source": [
    "test_phrase = 'Eu sou uma string com pontuacao. Como posso remover tudo isso?'"
   ]
  },
  {
   "cell_type": "markdown",
   "metadata": {
    "colab_type": "text",
    "id": "Cn3CNpR_KzOH"
   },
   "source": [
    "Use [^!.? ] para verificar se há correspondências que não sejam!,.,? ou espaço. Adicione o + para verificar se a correspondência aparece pelo menos uma vez, isso basicamente se traduz em encontrar as palavras."
   ]
  },
  {
   "cell_type": "code",
   "execution_count": 20,
   "metadata": {
    "colab": {
     "base_uri": "https://localhost:8080/",
     "height": 35
    },
    "colab_type": "code",
    "id": "qmverRUKKzOI",
    "outputId": "526be977-9368-4729-fc1b-e6662201a752"
   },
   "outputs": [
    {
     "data": {
      "text/plain": [
       "['Eu sou uma string com pontuacao', ' Como posso remover tudo isso']"
      ]
     },
     "execution_count": 20,
     "metadata": {
      "tags": []
     },
     "output_type": "execute_result"
    }
   ],
   "source": [
    "re.findall('[^!.?]+',test_phrase)"
   ]
  },
  {
   "cell_type": "markdown",
   "metadata": {
    "colab_type": "text",
    "id": "liSJOaRpKzOR"
   },
   "source": [
    "## Intervalos de caracteres\n",
    "\n",
    "À medida que os conjuntos de caracteres crescem, digitar cada caractere que deve (ou não) corresponder pode se tornar muito tedioso. Um formato mais compacto usando intervalos de caracteres permite definir um conjunto de caracteres para incluir todos os caracteres contíguos entre um ponto inicial e um ponto final. O formato usado é [início-fim].\n",
    "\n",
    "Casos de uso comuns são procurar por um intervalo específico de letras no alfabeto, como [a-f] retornaria correspondências com qualquer instância de letras entre a e f.\n",
    "\n",
    "Vamos percorrer alguns exemplos:"
   ]
  },
  {
   "cell_type": "code",
   "execution_count": 21,
   "metadata": {
    "colab": {
     "base_uri": "https://localhost:8080/",
     "height": 303
    },
    "colab_type": "code",
    "id": "bSsakGR2KzOS",
    "outputId": "d3b5f5b6-efd6-43cd-9b31-732d1cf27eda"
   },
   "outputs": [
    {
     "name": "stdout",
     "output_type": "stream",
     "text": [
      "Procurando a frase usando o re check: '[a-z]+'\n",
      "['ma', 'sentenca', 'de', 'exemplo', 'amos', 'tentar', 'encontrar', 'alguns', 'caracteres']\n",
      "\n",
      "\n",
      "Procurando a frase usando o re check: '[A-Z]+'\n",
      "['U', 'V']\n",
      "\n",
      "\n",
      "Procurando a frase usando o re check: '[a-zA-Z]+'\n",
      "['Uma', 'sentenca', 'de', 'exemplo', 'Vamos', 'tentar', 'encontrar', 'alguns', 'caracteres']\n",
      "\n",
      "\n",
      "Procurando a frase usando o re check: '[A-Z][a-z]+'\n",
      "['Uma', 'Vamos']\n",
      "\n",
      "\n"
     ]
    }
   ],
   "source": [
    "\n",
    "test_phrase = 'Uma sentenca de exemplo. Vamos tentar encontrar alguns caracteres.'\n",
    "\n",
    "test_patterns=[ '[a-z]+',      # caracteres minusculos\n",
    "                '[A-Z]+',      # caracteres maiusculos\n",
    "                '[a-zA-Z]+',   # caracteres minusculos ou maiusculos\n",
    "                '[A-Z][a-z]+'] # um caracter maiuscula seguida de caracteres minusculos\n",
    "                \n",
    "multi_re_find(test_patterns,test_phrase)"
   ]
  },
  {
   "cell_type": "markdown",
   "metadata": {
    "colab_type": "text",
    "id": "hgHNa1lXKzOa"
   },
   "source": [
    "## Códigos de Escape\n",
    "\n",
    "Você pode usar códigos de escape especiais para encontrar tipos específicos de padrões em seus dados, como dígitos, não dígitos, espaço em branco e muito mais. Por exemplo:\n",
    "\n",
    "<table border=\"1\" class=\"docutils\">\n",
    "<colgroup>\n",
    "<col width=\"14%\" />\n",
    "<col width=\"86%\" />\n",
    "</colgroup>\n",
    "<thead valign=\"bottom\">\n",
    "<tr class=\"row-odd\"><th class=\"head\">Code</th>\n",
    "<th class=\"head\">Meaning</th>\n",
    "</tr>\n",
    "</thead>\n",
    "<tbody valign=\"top\">\n",
    "<tr class=\"row-even\"><td><tt class=\"docutils literal\"><span class=\"pre\">\\d</span></tt></td>\n",
    "<td>um dígito</td>\n",
    "</tr>\n",
    "<tr class=\"row-odd\"><td><tt class=\"docutils literal\"><span class=\"pre\">\\D</span></tt></td>\n",
    "<td>um não dígito</td>\n",
    "</tr>\n",
    "<tr class=\"row-even\"><td><tt class=\"docutils literal\"><span class=\"pre\">\\s</span></tt></td>\n",
    "<td>espaços em branch (tab, espaço, nova linha, etc.)</td>\n",
    "</tr>\n",
    "<tr class=\"row-odd\"><td><tt class=\"docutils literal\"><span class=\"pre\">\\S</span></tt></td>\n",
    "<td>sem espaço em branco</td>\n",
    "</tr>\n",
    "<tr class=\"row-even\"><td><tt class=\"docutils literal\"><span class=\"pre\">\\w</span></tt></td>\n",
    "<td>alfanumérico</td>\n",
    "</tr>\n",
    "<tr class=\"row-odd\"><td><tt class=\"docutils literal\"><span class=\"pre\">\\W</span></tt></td>\n",
    "<td>não alfanumérico</td>\n",
    "</tr>\n",
    "</tbody>\n",
    "</table>"
   ]
  },
  {
   "cell_type": "code",
   "execution_count": 23,
   "metadata": {
    "colab": {
     "base_uri": "https://localhost:8080/",
     "height": 445
    },
    "colab_type": "code",
    "id": "JQlf6zibKzOd",
    "outputId": "4b3bfd6c-898f-4704-94bf-9e05d4b459d9"
   },
   "outputs": [
    {
     "name": "stdout",
     "output_type": "stream",
     "text": [
      "Procurando a frase usando o re check: '\\\\d+'\n",
      "['1244']\n",
      "\n",
      "\n",
      "Procurando a frase usando o re check: '\\\\D+'\n",
      "['Tenho uma string com ', ' e uma #hashtag']\n",
      "\n",
      "\n",
      "Procurando a frase usando o re check: '\\\\s+'\n",
      "[' ', ' ', ' ', ' ', ' ', ' ', ' ']\n",
      "\n",
      "\n",
      "Procurando a frase usando o re check: '\\\\S+'\n",
      "['Tenho', 'uma', 'string', 'com', '1244', 'e', 'uma', '#hashtag']\n",
      "\n",
      "\n",
      "Procurando a frase usando o re check: '\\\\w+'\n",
      "['Tenho', 'uma', 'string', 'com', '1244', 'e', 'uma', 'hashtag']\n",
      "\n",
      "\n",
      "Procurando a frase usando o re check: '\\\\W+'\n",
      "[' ', ' ', ' ', ' ', ' ', ' ', ' #']\n",
      "\n",
      "\n"
     ]
    }
   ],
   "source": [
    "test_phrase = 'Tenho uma string com 1244 e uma #hashtag'\n",
    "\n",
    "test_patterns=[ r'\\d+', # sequencia de dígitos\n",
    "                r'\\D+', # sequencia de não-dígitos\n",
    "                r'\\s+', # sequencia de espaços em branco\n",
    "                r'\\S+', # sequencia de não-espaços em branco\n",
    "                r'\\w+', # caracteres alfanumericos\n",
    "                r'\\W+', # não-alfanumericos\n",
    "                ]\n",
    "\n",
    "multi_re_find(test_patterns,test_phrase)"
   ]
  },
  {
   "cell_type": "markdown",
   "metadata": {
    "colab_type": "text",
    "id": "Mktjl6W_KzOl"
   },
   "source": [
    "Bom trabalho!\n"
   ]
  },
  {
   "cell_type": "code",
   "execution_count": 0,
   "metadata": {
    "colab": {},
    "colab_type": "code",
    "id": "zI-MJfNgK65i"
   },
   "outputs": [],
   "source": []
  }
 ],
 "metadata": {
  "colab": {
   "collapsed_sections": [],
   "name": "01-Expressoes-Regulares.ipynb",
   "provenance": [],
   "version": "0.3.2"
  },
  "kernelspec": {
   "display_name": "Python 3",
   "language": "python",
   "name": "python3"
  },
  "language_info": {
   "codemirror_mode": {
    "name": "ipython",
    "version": 3
   },
   "file_extension": ".py",
   "mimetype": "text/x-python",
   "name": "python",
   "nbconvert_exporter": "python",
   "pygments_lexer": "ipython3",
   "version": "3.7.3"
  }
 },
 "nbformat": 4,
 "nbformat_minor": 1
}
