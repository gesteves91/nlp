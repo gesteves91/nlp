{
  "nbformat": 4,
  "nbformat_minor": 0,
  "metadata": {
    "colab": {
      "name": "01-Expressoes-Regulares.ipynb",
      "version": "0.3.2",
      "provenance": [],
      "collapsed_sections": []
    },
    "language_info": {
      "codemirror_mode": {
        "name": "ipython",
        "version": 2
      },
      "file_extension": ".py",
      "mimetype": "text/x-python",
      "name": "python",
      "nbconvert_exporter": "python",
      "pygments_lexer": "ipython2",
      "version": "2.7.10"
    },
    "kernelspec": {
      "display_name": "Python 2",
      "language": "python",
      "name": "python2"
    }
  },
  "cells": [
    {
      "cell_type": "markdown",
      "metadata": {
        "id": "1ZAkh5TjKzMb",
        "colab_type": "text"
      },
      "source": [
        "#Expressões Regulares\n",
        "\n",
        "Expressões regulares são padrões de correspondência de texto descritos com uma sintaxe formal. Você frequentemente ouvirá expressões regulares chamadas de 'regex' ou 'regexp' na literatura. Expressões regulares podem incluir uma variedade de regras, desde encontrar repetições, correspondência de texto além de outras funcionalidades. À medida que avança no Python descrito nesse notebook, você verá que muitos dos seus problemas de análise podem ser resolvidos com expressões regulares.\n",
        "\n",
        "A sintaxe adotada pelo Python para lidar com expressões regulares é muito similar a adotada pelo Perl. \n"
      ]
    },
    {
      "cell_type": "markdown",
      "metadata": {
        "id": "pNnJs9fFKzMe",
        "colab_type": "text"
      },
      "source": [
        "## Procurando por padrões no Texto\n",
        "\n",
        "Um dos usos mais comuns para o módulo re é encontrar padrões no texto. Vamos fazer um exemplo rápido de usar o método de pesquisa no re módulo para encontrar algum texto:"
      ]
    },
    {
      "cell_type": "code",
      "metadata": {
        "id": "jkG0htycKzMg",
        "colab_type": "code",
        "outputId": "87bd113b-4b11-444d-a809-862b2ffdd997",
        "colab": {
          "base_uri": "https://localhost:8080/",
          "height": 196
        }
      },
      "source": [
        "import re\n",
        "\n",
        "patterns = ['termo1', 'termo2']\n",
        "\n",
        "# Texto para fazer o parse\n",
        "text = 'Essa seria uma string com o termo1, mas sem o outro termo.'\n",
        "\n",
        "for pattern in patterns:\n",
        "    print 'Procurando por \"%s\" em: \\n\"%s\"' % (pattern, text),\n",
        "    \n",
        "    # Check pelo padrão\n",
        "    if re.search(pattern,  text):\n",
        "        print '\\n'\n",
        "        print 'Match foi encontrado.\\n'\n",
        "    else:\n",
        "        print '\\n'\n",
        "        print 'Sem Match encontrado.\\n'"
      ],
      "execution_count": 1,
      "outputs": [
        {
          "output_type": "stream",
          "text": [
            "Procurando por \"termo1\" em: \n",
            "\"Essa seria uma string com o termo1, mas sem o outro termo.\" \n",
            "\n",
            "Match foi encontrado.\n",
            "\n",
            "Procurando por \"termo2\" em: \n",
            "\"Essa seria uma string com o termo1, mas sem o outro termo.\" \n",
            "\n",
            "Sem Match encontrado.\n",
            "\n"
          ],
          "name": "stdout"
        }
      ]
    },
    {
      "cell_type": "markdown",
      "metadata": {
        "id": "HRZK13xAKzMr",
        "colab_type": "text"
      },
      "source": [
        "\n",
        "Agora vimos que re.search() pegará o pattern, fará a varredura do texto e retornará um objeto **Match**. Se nenhum padrão for encontrado, um **None** será retornado. Para dar uma imagem mais clara desse objeto de correspondência, confira a célula abaixo:\n"
      ]
    },
    {
      "cell_type": "code",
      "metadata": {
        "id": "zF_64u1KKzMt",
        "colab_type": "code",
        "outputId": "84c4b5da-8568-4eef-e14a-691d4003eb59",
        "colab": {
          "base_uri": "https://localhost:8080/",
          "height": 35
        }
      },
      "source": [
        "pattern = 'termo1'\n",
        "\n",
        "text = 'Essa string tem o termo1, mas não tem o termo2.'\n",
        "\n",
        "match = re.search(pattern, text)\n",
        "\n",
        "type(match)"
      ],
      "execution_count": 6,
      "outputs": [
        {
          "output_type": "execute_result",
          "data": {
            "text/plain": [
              "_sre.SRE_Match"
            ]
          },
          "metadata": {
            "tags": []
          },
          "execution_count": 6
        }
      ]
    },
    {
      "cell_type": "markdown",
      "metadata": {
        "id": "uyZAAH_jKzM1",
        "colab_type": "text"
      },
      "source": [
        "\n",
        "Esse objeto **Match** retornado pelo método search() é mais do que apenas um Boolean ou None, ele contém informações sobre a correspondência, incluindo a string de entrada original, a expressão regular que foi usada e a localização da correspondência. Vamos ver os métodos que podemos usar no objeto de correspondência:"
      ]
    },
    {
      "cell_type": "code",
      "metadata": {
        "id": "hYtUhnz5KzM3",
        "colab_type": "code",
        "outputId": "65343a33-4444-4bec-e478-5e90c2e7b00c",
        "colab": {
          "base_uri": "https://localhost:8080/",
          "height": 35
        }
      },
      "source": [
        "# Mostra o início do Match\n",
        "match.start()"
      ],
      "execution_count": 7,
      "outputs": [
        {
          "output_type": "execute_result",
          "data": {
            "text/plain": [
              "18"
            ]
          },
          "metadata": {
            "tags": []
          },
          "execution_count": 7
        }
      ]
    },
    {
      "cell_type": "code",
      "metadata": {
        "id": "VmbxhT0WKzM-",
        "colab_type": "code",
        "outputId": "c27f2328-b9f5-4c47-874d-24ef48537350",
        "colab": {
          "base_uri": "https://localhost:8080/",
          "height": 35
        }
      },
      "source": [
        "# Mostra a posição final do Match\n",
        "match.end()"
      ],
      "execution_count": 8,
      "outputs": [
        {
          "output_type": "execute_result",
          "data": {
            "text/plain": [
              "24"
            ]
          },
          "metadata": {
            "tags": []
          },
          "execution_count": 8
        }
      ]
    },
    {
      "cell_type": "markdown",
      "metadata": {
        "id": "xDBPQqFLKzNF",
        "colab_type": "text"
      },
      "source": [
        "## Separação da Expressão Regular\n",
        "\n",
        "Vamos ver como podemos dividir com a re sintaxe. Isso deve ser semelhante a como utilizamos o método split() com strings."
      ]
    },
    {
      "cell_type": "code",
      "metadata": {
        "id": "uIi__CX-KzNH",
        "colab_type": "code",
        "outputId": "cdcfa682-d9d2-48ed-eace-bf08a22ad139",
        "colab": {
          "base_uri": "https://localhost:8080/",
          "height": 53
        }
      },
      "source": [
        "# A partir de qual caractere queremos separar\n",
        "split_term = '@'\n",
        "\n",
        "frase = 'Qual o nome de dominio do seguinte endereco de email: geanderson@gmail.com'\n",
        "\n",
        "# Divide a frase\n",
        "re.split(split_term, frase)"
      ],
      "execution_count": 10,
      "outputs": [
        {
          "output_type": "execute_result",
          "data": {
            "text/plain": [
              "['Qual o nome de dominio do seguinte endereco de email: geanderson',\n",
              " 'gmail.com']"
            ]
          },
          "metadata": {
            "tags": []
          },
          "execution_count": 10
        }
      ]
    },
    {
      "cell_type": "markdown",
      "metadata": {
        "id": "vm8o-MtuKzNQ",
        "colab_type": "text"
      },
      "source": [
        "Observe como re.split() retorna uma lista com o termo a ser removido e os termos na lista são uma versão dividida da string. \n",
        "\n",
        "## Encontrando todas as instâncias de um padrão\n",
        "\n",
        "Você pode usar re.findall() para encontrar todas as instâncias de um padrão em uma string. Por exemplo:"
      ]
    },
    {
      "cell_type": "code",
      "metadata": {
        "id": "Ahh7U90BKzNS",
        "colab_type": "code",
        "outputId": "218b3678-50bd-4bf5-927a-073ab3a70a28",
        "colab": {
          "base_uri": "https://localhost:8080/",
          "height": 35
        }
      },
      "source": [
        "# Retornar uma lista de todos os matches\n",
        "re.findall('match','frase de teste com match no meio e no final outro match')"
      ],
      "execution_count": 12,
      "outputs": [
        {
          "output_type": "execute_result",
          "data": {
            "text/plain": [
              "['match', 'match']"
            ]
          },
          "metadata": {
            "tags": []
          },
          "execution_count": 12
        }
      ]
    },
    {
      "cell_type": "markdown",
      "metadata": {
        "id": "6-Ns_fFnKzNl",
        "colab_type": "text"
      },
      "source": [
        "## re Sintaxe\n",
        "\n",
        "Expressões regulares suportam uma enorme variedade de padrões simplesmente localizando onde uma única string ocorreu.\n",
        "\n",
        "Podemos usar *metacaracteres* junto com re para encontrar tipos específicos de padrões.\n",
        "\n",
        "Como estaremos testando vários formulários de re-sintaxe, vamos criar uma função que imprima os resultados, dada uma lista de várias expressões regulares e uma frase para analisar:"
      ]
    },
    {
      "cell_type": "code",
      "metadata": {
        "id": "PttDsJ1UKzNn",
        "colab_type": "code",
        "colab": {}
      },
      "source": [
        "def multi_re_find(patterns, phrase):\n",
        "    '''\n",
        "    Pega uma lista de padrões regex\n",
        "    Imprime a lista de todos os matches\n",
        "    '''\n",
        "    for pattern in patterns:\n",
        "        print 'Procurando a frase usando o re check: %r' %pattern\n",
        "        print re.findall(pattern, phrase)\n",
        "        print '\\n'"
      ],
      "execution_count": 0,
      "outputs": []
    },
    {
      "cell_type": "markdown",
      "metadata": {
        "id": "SJp7o4zhKzNu",
        "colab_type": "text"
      },
      "source": [
        "###Reperatição da Sintaxe\n",
        "\n",
        "Existem cinco maneiras de expressar a repetição em um padrão:\n",
        "\n",
        "    1.) Um padrão seguido pelo meta-caractere * é repetido zero ou mais vezes.\n",
        "    2.) Substitua o * por + e o padrão deve aparecer pelo menos uma vez.\n",
        "    3.) Usando ? significa que o padrão aparece zero ou uma vez.\n",
        "    4.) Para um número específico de ocorrências, use {m} após o padrão, onde m é substituído pelo número de vezes que o padrão deve se repetir.\n",
        "    5.) Use {m, n} onde m é o número mínimo de repetições e n é o máximo. Saída de n ({m,}) significa que o valor aparece pelo menos m vezes, sem máximo.\n",
        "    \n",
        "Agora vamos ver um exemplo de cada um deles usando nossa função multi_re_find:"
      ]
    },
    {
      "cell_type": "code",
      "metadata": {
        "id": "Uq_BhUaiKzNw",
        "colab_type": "code",
        "outputId": "3baff5f6-6983-4c4a-b372-d22b682bc65a",
        "colab": {
          "base_uri": "https://localhost:8080/",
          "height": 374
        }
      },
      "source": [
        "test_phrase = 'sdsd..sssddd...sdddsddd...dsds...dsssss...sdddd'\n",
        "\n",
        "test_patterns = ['sd*',     # s seguido de 0 ou mais d's\n",
        "                 'sd+',     # s seguido de 1 ou mais d's\n",
        "                 'sd?',     # s seguido de 0 ou d's\n",
        "                 'sd{3}',   # s seguido de 3 d's\n",
        "                 'sd{2,3}', # s seguido de 2 para 3 d's\n",
        "                ]\n",
        "\n",
        "multi_re_find(test_patterns,test_phrase)"
      ],
      "execution_count": 15,
      "outputs": [
        {
          "output_type": "stream",
          "text": [
            "Procurando a frase usando o re check: 'sd*'\n",
            "['sd', 'sd', 's', 's', 'sddd', 'sddd', 'sddd', 'sd', 's', 's', 's', 's', 's', 's', 'sdddd']\n",
            "\n",
            "\n",
            "Procurando a frase usando o re check: 'sd+'\n",
            "['sd', 'sd', 'sddd', 'sddd', 'sddd', 'sd', 'sdddd']\n",
            "\n",
            "\n",
            "Procurando a frase usando o re check: 'sd?'\n",
            "['sd', 'sd', 's', 's', 'sd', 'sd', 'sd', 'sd', 's', 's', 's', 's', 's', 's', 'sd']\n",
            "\n",
            "\n",
            "Procurando a frase usando o re check: 'sd{3}'\n",
            "['sddd', 'sddd', 'sddd', 'sddd']\n",
            "\n",
            "\n",
            "Procurando a frase usando o re check: 'sd{2,3}'\n",
            "['sddd', 'sddd', 'sddd', 'sddd']\n",
            "\n",
            "\n"
          ],
          "name": "stdout"
        }
      ]
    },
    {
      "cell_type": "markdown",
      "metadata": {
        "id": "UVOXvCsaKzN2",
        "colab_type": "text"
      },
      "source": [
        "\n",
        "## Conjuntos de Caracteres\n",
        "\n",
        "Conjuntos de caracteres são usados quando você deseja corresponder qualquer um de um grupo de caracteres em um ponto de entrada. Os colchetes são usados para construir entradas de conjunto de caracteres. Por exemplo: a entrada [ab] procura ocorrências de a ou b.\n",
        "Vamos ver alguns exemplos:"
      ]
    },
    {
      "cell_type": "code",
      "metadata": {
        "id": "QYWXFypgKzN4",
        "colab_type": "code",
        "outputId": "970b9f96-db5a-41c0-ad74-d3b2d84d38e1",
        "colab": {
          "base_uri": "https://localhost:8080/",
          "height": 180
        }
      },
      "source": [
        "test_phrase = 'sdsd..sssddd...sdddsddd...dsds...dsssss...sdddd'\n",
        "\n",
        "test_patterns = ['[sd]',    # s ou d\n",
        "                 's[sd]+']   # s seguido de um ou mais s ou d\n",
        "            \n",
        "\n",
        "multi_re_find(test_patterns,test_phrase)"
      ],
      "execution_count": 0,
      "outputs": [
        {
          "output_type": "stream",
          "text": [
            "Procurando a frase usando o re check: '[sd]'\n",
            "['s', 'd', 's', 'd', 's', 's', 's', 'd', 'd', 'd', 's', 'd', 'd', 'd', 's', 'd', 'd', 'd', 'd', 's', 'd', 's', 'd', 's', 's', 's', 's', 's', 's', 'd', 'd', 'd', 'd']\n",
            "\n",
            "\n",
            "Procurando a frase usando o re check: 's[sd]+'\n",
            "['sdsd', 'sssddd', 'sdddsddd', 'sds', 'sssss', 'sdddd']\n",
            "\n",
            "\n"
          ],
          "name": "stdout"
        }
      ]
    },
    {
      "cell_type": "markdown",
      "metadata": {
        "id": "JyztqLWGKzN-",
        "colab_type": "text"
      },
      "source": [
        "Faz sentido que o primeiro [sd] retorne todas as instâncias. Além disso, a segunda entrada apenas retornará qualquer coisa que comece com um s neste caso específico da entrada da frase de teste."
      ]
    },
    {
      "cell_type": "markdown",
      "metadata": {
        "id": "uLR1M9TcKzOA",
        "colab_type": "text"
      },
      "source": [
        "##Exclusão\n",
        "\n",
        "Podemos usar ^ para excluir termos, incorporando-os à notação de sintaxe de colchetes. Por exemplo: [^...] corresponderá a qualquer caractere único que não esteja entre colchetes. Vamos ver alguns exemplos:"
      ]
    },
    {
      "cell_type": "code",
      "metadata": {
        "id": "8NtcTW39KzOB",
        "colab_type": "code",
        "colab": {}
      },
      "source": [
        "test_phrase = 'Eu sou uma string com pontuacao. Como posso remover tudo isso?'"
      ],
      "execution_count": 0,
      "outputs": []
    },
    {
      "cell_type": "markdown",
      "metadata": {
        "id": "Cn3CNpR_KzOH",
        "colab_type": "text"
      },
      "source": [
        "Use [^!.? ] para verificar se há correspondências que não sejam!,.,? ou espaço. Adicione o + para verificar se a correspondência aparece pelo menos uma vez, isso basicamente se traduz em encontrar as palavras."
      ]
    },
    {
      "cell_type": "code",
      "metadata": {
        "id": "qmverRUKKzOI",
        "colab_type": "code",
        "outputId": "526be977-9368-4729-fc1b-e6662201a752",
        "colab": {
          "base_uri": "https://localhost:8080/",
          "height": 35
        }
      },
      "source": [
        "re.findall('[^!.?]+',test_phrase)"
      ],
      "execution_count": 20,
      "outputs": [
        {
          "output_type": "execute_result",
          "data": {
            "text/plain": [
              "['Eu sou uma string com pontuacao', ' Como posso remover tudo isso']"
            ]
          },
          "metadata": {
            "tags": []
          },
          "execution_count": 20
        }
      ]
    },
    {
      "cell_type": "markdown",
      "metadata": {
        "id": "liSJOaRpKzOR",
        "colab_type": "text"
      },
      "source": [
        "## Intervalos de caracteres\n",
        "\n",
        "À medida que os conjuntos de caracteres crescem, digitar cada caractere que deve (ou não) corresponder pode se tornar muito tedioso. Um formato mais compacto usando intervalos de caracteres permite definir um conjunto de caracteres para incluir todos os caracteres contíguos entre um ponto inicial e um ponto final. O formato usado é [início-fim].\n",
        "\n",
        "Casos de uso comuns são procurar por um intervalo específico de letras no alfabeto, como [a-f] retornaria correspondências com qualquer instância de letras entre a e f.\n",
        "\n",
        "Vamos percorrer alguns exemplos:"
      ]
    },
    {
      "cell_type": "code",
      "metadata": {
        "id": "bSsakGR2KzOS",
        "colab_type": "code",
        "outputId": "d3b5f5b6-efd6-43cd-9b31-732d1cf27eda",
        "colab": {
          "base_uri": "https://localhost:8080/",
          "height": 303
        }
      },
      "source": [
        "\n",
        "test_phrase = 'Uma sentenca de exemplo. Vamos tentar encontrar alguns caracteres.'\n",
        "\n",
        "test_patterns=[ '[a-z]+',      # caracteres minusculos\n",
        "                '[A-Z]+',      # caracteres maiusculos\n",
        "                '[a-zA-Z]+',   # caracteres minusculos ou maiusculos\n",
        "                '[A-Z][a-z]+'] # um caracter maiuscula seguida de caracteres minusculos\n",
        "                \n",
        "multi_re_find(test_patterns,test_phrase)"
      ],
      "execution_count": 21,
      "outputs": [
        {
          "output_type": "stream",
          "text": [
            "Procurando a frase usando o re check: '[a-z]+'\n",
            "['ma', 'sentenca', 'de', 'exemplo', 'amos', 'tentar', 'encontrar', 'alguns', 'caracteres']\n",
            "\n",
            "\n",
            "Procurando a frase usando o re check: '[A-Z]+'\n",
            "['U', 'V']\n",
            "\n",
            "\n",
            "Procurando a frase usando o re check: '[a-zA-Z]+'\n",
            "['Uma', 'sentenca', 'de', 'exemplo', 'Vamos', 'tentar', 'encontrar', 'alguns', 'caracteres']\n",
            "\n",
            "\n",
            "Procurando a frase usando o re check: '[A-Z][a-z]+'\n",
            "['Uma', 'Vamos']\n",
            "\n",
            "\n"
          ],
          "name": "stdout"
        }
      ]
    },
    {
      "cell_type": "markdown",
      "metadata": {
        "id": "hgHNa1lXKzOa",
        "colab_type": "text"
      },
      "source": [
        "## Códigos de Escape\n",
        "\n",
        "Você pode usar códigos de escape especiais para encontrar tipos específicos de padrões em seus dados, como dígitos, não dígitos, espaço em branco e muito mais. Por exemplo:\n",
        "\n",
        "<table border=\"1\" class=\"docutils\">\n",
        "<colgroup>\n",
        "<col width=\"14%\" />\n",
        "<col width=\"86%\" />\n",
        "</colgroup>\n",
        "<thead valign=\"bottom\">\n",
        "<tr class=\"row-odd\"><th class=\"head\">Code</th>\n",
        "<th class=\"head\">Meaning</th>\n",
        "</tr>\n",
        "</thead>\n",
        "<tbody valign=\"top\">\n",
        "<tr class=\"row-even\"><td><tt class=\"docutils literal\"><span class=\"pre\">\\d</span></tt></td>\n",
        "<td>um dígito</td>\n",
        "</tr>\n",
        "<tr class=\"row-odd\"><td><tt class=\"docutils literal\"><span class=\"pre\">\\D</span></tt></td>\n",
        "<td>um não dígito</td>\n",
        "</tr>\n",
        "<tr class=\"row-even\"><td><tt class=\"docutils literal\"><span class=\"pre\">\\s</span></tt></td>\n",
        "<td>espaços em branch (tab, espaço, nova linha, etc.)</td>\n",
        "</tr>\n",
        "<tr class=\"row-odd\"><td><tt class=\"docutils literal\"><span class=\"pre\">\\S</span></tt></td>\n",
        "<td>sem espaço em branco</td>\n",
        "</tr>\n",
        "<tr class=\"row-even\"><td><tt class=\"docutils literal\"><span class=\"pre\">\\w</span></tt></td>\n",
        "<td>alfanumérico</td>\n",
        "</tr>\n",
        "<tr class=\"row-odd\"><td><tt class=\"docutils literal\"><span class=\"pre\">\\W</span></tt></td>\n",
        "<td>não alfanumérico</td>\n",
        "</tr>\n",
        "</tbody>\n",
        "</table>"
      ]
    },
    {
      "cell_type": "code",
      "metadata": {
        "id": "JQlf6zibKzOd",
        "colab_type": "code",
        "outputId": "4b3bfd6c-898f-4704-94bf-9e05d4b459d9",
        "colab": {
          "base_uri": "https://localhost:8080/",
          "height": 445
        }
      },
      "source": [
        "test_phrase = 'Tenho uma string com 1244 e uma #hashtag'\n",
        "\n",
        "test_patterns=[ r'\\d+', # sequencia de dígitos\n",
        "                r'\\D+', # sequencia de não-dígitos\n",
        "                r'\\s+', # sequencia de espaços em branco\n",
        "                r'\\S+', # sequencia de não-espaços em branco\n",
        "                r'\\w+', # caracteres alfanumericos\n",
        "                r'\\W+', # não-alfanumericos\n",
        "                ]\n",
        "\n",
        "multi_re_find(test_patterns,test_phrase)"
      ],
      "execution_count": 23,
      "outputs": [
        {
          "output_type": "stream",
          "text": [
            "Procurando a frase usando o re check: '\\\\d+'\n",
            "['1244']\n",
            "\n",
            "\n",
            "Procurando a frase usando o re check: '\\\\D+'\n",
            "['Tenho uma string com ', ' e uma #hashtag']\n",
            "\n",
            "\n",
            "Procurando a frase usando o re check: '\\\\s+'\n",
            "[' ', ' ', ' ', ' ', ' ', ' ', ' ']\n",
            "\n",
            "\n",
            "Procurando a frase usando o re check: '\\\\S+'\n",
            "['Tenho', 'uma', 'string', 'com', '1244', 'e', 'uma', '#hashtag']\n",
            "\n",
            "\n",
            "Procurando a frase usando o re check: '\\\\w+'\n",
            "['Tenho', 'uma', 'string', 'com', '1244', 'e', 'uma', 'hashtag']\n",
            "\n",
            "\n",
            "Procurando a frase usando o re check: '\\\\W+'\n",
            "[' ', ' ', ' ', ' ', ' ', ' ', ' #']\n",
            "\n",
            "\n"
          ],
          "name": "stdout"
        }
      ]
    },
    {
      "cell_type": "markdown",
      "metadata": {
        "id": "Mktjl6W_KzOl",
        "colab_type": "text"
      },
      "source": [
        "Bom trabalho!\n"
      ]
    },
    {
      "cell_type": "code",
      "metadata": {
        "id": "zI-MJfNgK65i",
        "colab_type": "code",
        "colab": {}
      },
      "source": [
        ""
      ],
      "execution_count": 0,
      "outputs": []
    }
  ]
}