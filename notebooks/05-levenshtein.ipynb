{
 "cells": [
  {
   "cell_type": "markdown",
   "metadata": {},
   "source": [
    "# Sequência de Levenshtein\n",
    "\n",
    "\"A distância de Levenshtein é uma métrica do tipo string para medir a diferença entre duas seqüências. Informalmente, a distância de Levenshtein entre duas palavras é o número mínimo de edições de um caractere (inserções, exclusões ou substituições) necessárias para alterar uma palavra pela outra\". - Wikipedia\n",
    "\n",
    "A Distância de Levenshtein possui muitos casos de uso em PNL. No algoritmo mais simples de previsão de palavras, a Distância de Levenshtein é usada para encontrar a palavra mais semelhante. Mesmo na metodologia de correção/detecção ortográfica, o Levenshtein Distance pode ser usado para prever a ortografia correta da palavra a partir de uma determinada dicção. Normalmente, o programa calcula a distância de Levenshtein da palavra-alvo em relação a cada palavra do dicionário. A palavra com o mínimo de distância é priorizada e prevista.\n",
    "\n",
    "## Uma string possui uma única solução?\n",
    "Nem sempre, na maioria dos casos, existem múltiplas sequências de Levenshtein entre duas srings com a mesma distância. \n",
    "\n",
    "## Escopo e Implementação\n",
    "Este notebook é focado em encontrar todas as sequências de Levenshtein."
   ]
  },
  {
   "cell_type": "code",
   "execution_count": 2,
   "metadata": {},
   "outputs": [],
   "source": [
    "import numpy as np"
   ]
  },
  {
   "cell_type": "code",
   "execution_count": 7,
   "metadata": {},
   "outputs": [],
   "source": [
    "def getMemorizationMatrix(StringA,StringB):\n",
    "    matrix = np.zeros([len(StringA)+1,len(StringB)+1])\n",
    "    \n",
    "    for j in range(0,len(StringB)+1):\n",
    "        matrix[0][j] = j\n",
    "    \n",
    "    for i in range(0,len(StringA)+1):\n",
    "        matrix[i][0] = i\n",
    "        \n",
    "    for i in range(1,len(StringA)+1):\n",
    "        for  j in range(1,len(StringB) + 1):\n",
    "            if(StringA[i-1]==StringB[j-1]):\n",
    "                matrix[i][j] = matrix[i-1][j-1]\n",
    "            else:\n",
    "                matrix[i][j] = np.min([matrix[i-1][j],matrix[i-1][j-1],matrix[i][j-1]])+1\n",
    "    \n",
    "    return matrix"
   ]
  },
  {
   "cell_type": "code",
   "execution_count": 16,
   "metadata": {},
   "outputs": [],
   "source": [
    "def backtrackSequence(matrix,  StringA, StringB, i=None, j=None):\n",
    "    if(i==None):\n",
    "        i = len(StringA)\n",
    "    if(j==None):\n",
    "        j = len(StringB)\n",
    "    if(i==0 and j==0):\n",
    "        return [[[],StringA,0]]\n",
    "    if(StringA[i-1] == StringB[j-1]):\n",
    "        paths = backtrackSequence(matrix,StringA,StringB,i-1,j-1)\n",
    "        return paths\n",
    "    else:\n",
    "        paths = []\n",
    "        if(matrix[i-1][j] + 1 == matrix[i][j] and i-1 >= 0):\n",
    "            allPaths = backtrackSequence(matrix,StringA,StringB, i-1,j)\n",
    "            for path in allPaths:\n",
    "                cS = path[1]\n",
    "                deviation = path[2]\n",
    "                path[1] = cS[0:i+deviation-1] + cS[i+deviation:len(cS)]\n",
    "                path[2] = deviation - 1\n",
    "                path[0].append(cS + \" deleta \" + StringA[i-1] + \"(\"+str(i-1+deviation)+\")\")\n",
    "            paths.extend(allPaths)\n",
    "        if(matrix[i][j-1] + 1 == matrix[i][j] and j-1 >= 0):\n",
    "            allPaths = backtrackSequence(matrix,StringA,StringB, i,j-1)\n",
    "            for path in allPaths:\n",
    "                cS = path[1]\n",
    "                deviation = path[2]\n",
    "                path[1] = cS[0:i+deviation] + StringB[j-1] + cS[i+deviation:len(cS)]\n",
    "                path[2] = deviation + 1\n",
    "                path[0].append(cS + \" insere \" + StringB[j-1] +  \"(\"+str(i-1+deviation)+\")\")\n",
    "            paths.extend(allPaths)\n",
    "        if(matrix[i-1][j-1] + 1 == matrix[i][j] and i-1 >= 0 and j-1 >= 0):\n",
    "            allPaths = backtrackSequence(matrix,StringA,StringB,i-1,j-1)\n",
    "            for path in allPaths:\n",
    "                cS = path[1]\n",
    "                deviation = path[2]\n",
    "                path[1] = cS[0:i+deviation-1] + StringB[j-1] + cS[i+deviation:len(cS)]\n",
    "                path[0].append(cS + \" substitui \" + StringA[i-1]  + \" com \" + StringB[j-1] +  \" (\"+str(i-1+deviation)+\")\")\n",
    "            paths.extend(allPaths)\n",
    "            \n",
    "        return paths"
   ]
  },
  {
   "cell_type": "code",
   "execution_count": 17,
   "metadata": {},
   "outputs": [],
   "source": [
    "def listAllSequence(StringA,StringB):\n",
    "    matrix = getMemorizationMatrix(StringA,StringB)\n",
    "    allSequence = backtrackSequence(matrix,StringA,StringB)\n",
    "    for path in allSequence:\n",
    "        if(len(path[0])>0):\n",
    "            print(\" -> \".join(path[0]),\" -> \",path[1])\n",
    "        else:\n",
    "            print(StringA,\" -> \",StringB)"
   ]
  },
  {
   "cell_type": "code",
   "execution_count": 18,
   "metadata": {},
   "outputs": [],
   "source": [
    "StringA = \"paris\"\n",
    "StringB = \"alice\""
   ]
  },
  {
   "cell_type": "code",
   "execution_count": 19,
   "metadata": {},
   "outputs": [
    {
     "name": "stdout",
     "output_type": "stream",
     "text": [
      "paris deleta p(0) -> aris substitui r com l (1) -> alis substitui s com c (3) -> alic insere e(3)  ->  alice\n",
      "paris deleta p(0) -> aris substitui r com l (1) -> alis insere c(2) -> alics substitui s com e (4)  ->  alice\n"
     ]
    }
   ],
   "source": [
    "listAllSequence(StringA,StringB)"
   ]
  },
  {
   "cell_type": "markdown",
   "metadata": {
    "collapsed": true
   },
   "source": [
    "##### Bom Trabalho!"
   ]
  },
  {
   "cell_type": "code",
   "execution_count": null,
   "metadata": {},
   "outputs": [],
   "source": []
  }
 ],
 "metadata": {
  "kernelspec": {
   "display_name": "Python 3",
   "language": "python",
   "name": "python3"
  },
  "language_info": {
   "codemirror_mode": {
    "name": "ipython",
    "version": 3
   },
   "file_extension": ".py",
   "mimetype": "text/x-python",
   "name": "python",
   "nbconvert_exporter": "python",
   "pygments_lexer": "ipython3",
   "version": "3.7.3"
  }
 },
 "nbformat": 4,
 "nbformat_minor": 2
}
