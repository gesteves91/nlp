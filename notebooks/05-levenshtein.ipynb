{
 "cells": [
  {
   "cell_type": "markdown",
   "metadata": {},
   "source": [
    "# Backtracking to find Levenshtein Sequence\n",
    "\n",
    "\"The Levenshtein distance is a string metric for measuring the difference between two sequences. Informally, the Levenshtein distance between two words is the minimum number of single-character edits (insertions, deletions or substitutions) required to change one word into the other.\" - Wikipedia\n",
    "\n",
    "Levenshtein Distance has a lot of use case in NLP. In simplest algorithm of word prediction, Levenshtein Distance is used to find the most similar word. Even in spell correction/detection methodology, Levenshtein Distance can be used to predict the correct spelling of word from a given dictionaty. Typically, Program computes the Levenshtein distance of target word against each word of the dictionary. Word with minimum of distance is prioritize and predicted.\n",
    "\n",
    "## How to find Levenshtein distance??\n",
    "Levenshtein distance is very popular application of Dynamic Programming (DP). Since Levenshtein Distance between two strings has the [Optimal Substructure](https://en.wikipedia.org/wiki/Optimal_substructure) property and requires recomputation of sub-problems, Dynamic Programming can be used to memonize the intermediate solution for substructures\n",
    "\n",
    "\n",
    "## Does two string have unique solution??\n",
    "Not Always, In most of the cases, There are multiple Levenshtein sequence between two string with equal distance. All solutions are correct though\n",
    "\n",
    "## Scope of this implementation\n",
    "This python script is focused to find all Levenshtein Sequence possible. And it requires backtracking the path for finding all the solutions\n",
    "\n",
    "\n",
    "## Usage\n",
    "\n",
    "```sh\n",
    "    $ sequence.py \"paris\" \"alice\"\n",
    "```"
   ]
  },
  {
   "cell_type": "markdown",
   "metadata": {},
   "source": [
    "## Output\n",
    "\n",
    "Program will list down all the sequence of minimum edit operation requires to convert \"paris\" to \"alice\":\n",
    "\n",
    "- paris delete p(0) -> aris replace r with l(1) -> alis replace s with c(3) -> alic insert e(3)  ->  alice\n",
    "- paris delete p(0) -> aris replace r with l(1) -> alis insert c(2) -> alics replace s with e(4)  ->  alice\n"
   ]
  },
  {
   "cell_type": "code",
   "execution_count": 198,
   "metadata": {},
   "outputs": [
    {
     "name": "stdout",
     "output_type": "stream",
     "text": [
      "paris delete p(0) -> aris replace r with l(1) -> alis replace s with c(3) -> alic insert e(3)  ->  alice\n",
      "paris delete p(0) -> aris replace r with l(1) -> alis insert c(2) -> alics replace s with e(4)  ->  alice\n"
     ]
    }
   ],
   "source": [
    "listAllSequence(StringA,StringB)"
   ]
  },
  {
   "cell_type": "code",
   "execution_count": 22,
   "metadata": {
    "collapsed": true
   },
   "outputs": [],
   "source": [
    "import numpy as np"
   ]
  },
  {
   "cell_type": "code",
   "execution_count": 191,
   "metadata": {},
   "outputs": [],
   "source": [
    "def getMemorizationMatrix(StringA,StringB):\n",
    "    matrix = np.zeros([len(StringA)+1,len(StringB)+1])\n",
    "    \n",
    "    for j in range(0,len(StringB)+1):\n",
    "        matrix[0][j] = j\n",
    "    \n",
    "    for i in range(0,len(StringA)+1):\n",
    "        matrix[i][0] = i\n",
    "        \n",
    "    for i in range(1,len(StringA)+1):\n",
    "        for  j in range(1,len(StringB) + 1):\n",
    "            if(StringA[i-1]==StringB[j-1]):\n",
    "                matrix[i][j] = matrix[i-1][j-1]\n",
    "            else:\n",
    "                matrix[i][j] = np.min([matrix[i-1][j],matrix[i-1][j-1],matrix[i][j-1]])+1\n",
    "    \n",
    "    return matrix\n",
    "\n",
    "def backtrackSequence(matrix,  StringA, StringB, i=None, j=None):\n",
    "    if(i==None):\n",
    "        i = len(StringA)\n",
    "    if(j==None):\n",
    "        j = len(StringB)\n",
    "    if(i==0 and j==0):\n",
    "        return [[[],StringA,0]]\n",
    "    if(StringA[i-1] == StringB[j-1]):\n",
    "        paths = backtrackSequence(matrix,StringA,StringB,i-1,j-1)\n",
    "        return paths\n",
    "    else:\n",
    "        paths = []\n",
    "        if(matrix[i-1][j] + 1 == matrix[i][j] and i-1 >= 0):\n",
    "            allPaths = backtrackSequence(matrix,StringA,StringB, i-1,j)\n",
    "            for path in allPaths:\n",
    "                cS = path[1]\n",
    "                deviation = path[2]\n",
    "                path[1] = cS[0:i+deviation-1] + cS[i+deviation:len(cS)]\n",
    "                path[2] = deviation - 1\n",
    "                #print(cS + \" delete \" + StringA[i-1] + \" \" + path[1] + \" \" + \"(\"+str(i)+\",\"+str(j)+\")\")\n",
    "                path[0].append(cS + \" delete \" + StringA[i-1] + \"(\"+str(i-1+deviation)+\")\")\n",
    "            paths.extend(allPaths)\n",
    "            #print('Paths',paths)\n",
    "        if(matrix[i][j-1] + 1 == matrix[i][j] and j-1 >= 0):\n",
    "            allPaths = backtrackSequence(matrix,StringA,StringB, i,j-1)\n",
    "            for path in allPaths:\n",
    "                cS = path[1]\n",
    "                deviation = path[2]\n",
    "                path[1] = cS[0:i+deviation] + StringB[j-1] + cS[i+deviation:len(cS)]\n",
    "                path[2] = deviation + 1\n",
    "                path[0].append(cS + \" insert \" + StringB[j-1] +  \"(\"+str(i-1+deviation)+\")\")\n",
    "            paths.extend(allPaths)\n",
    "            #print('Paths',paths)\n",
    "        if(matrix[i-1][j-1] + 1 == matrix[i][j] and i-1 >= 0 and j-1 >= 0):\n",
    "            allPaths = backtrackSequence(matrix,StringA,StringB,i-1,j-1)\n",
    "            for path in allPaths:\n",
    "                cS = path[1]\n",
    "                deviation = path[2]\n",
    "                path[1] = cS[0:i+deviation-1] + StringB[j-1] + cS[i+deviation:len(cS)]\n",
    "                path[0].append(cS + \" replace \" + StringA[i-1]  + \" with \" + StringB[j-1] +  \"(\"+str(i-1+deviation)+\")\")\n",
    "            paths.extend(allPaths)\n",
    "            #print('Paths',paths)\n",
    "        return paths\n",
    "\n",
    "def listAllSequence(StringA,StringB):\n",
    "    matrix = getMemorizationMatrix(StringA,StringB)\n",
    "    allSequence = backtrackSequence(matrix,StringA,StringB)\n",
    "    for path in allSequence:\n",
    "        if(len(path[0])>0):\n",
    "            print(\" -> \".join(path[0]),\" -> \",path[1])\n",
    "        else:\n",
    "            print(StringA,\" -> \",StringB)\n",
    "\n",
    "    "
   ]
  },
  {
   "cell_type": "code",
   "execution_count": 196,
   "metadata": {
    "collapsed": true
   },
   "outputs": [],
   "source": [
    "StringA = \"paris\"\n",
    "StringB = \"alice\""
   ]
  },
  {
   "cell_type": "code",
   "execution_count": 197,
   "metadata": {},
   "outputs": [
    {
     "name": "stdout",
     "output_type": "stream",
     "text": [
      "paris delete p(0) -> aris replace r with l(1) -> alis replace s with c(3) -> alic insert e(3)  ->  alice\n",
      "paris delete p(0) -> aris replace r with l(1) -> alis insert c(2) -> alics replace s with e(4)  ->  alice\n"
     ]
    }
   ],
   "source": [
    "listAllSequence(StringA,StringB)"
   ]
  },
  {
   "cell_type": "code",
   "execution_count": 160,
   "metadata": {
    "collapsed": true
   },
   "outputs": [],
   "source": [
    "# Assume comming from top is insert left character\n",
    "# Assume comming from left is delete top character\n",
    "# Assume traversing corner is doing nothing\n",
    "# Assume traversing corner is replacing"
   ]
  }
 ],
 "metadata": {
  "kernelspec": {
   "display_name": "Python 3",
   "language": "python",
   "name": "python3"
  },
  "language_info": {
   "codemirror_mode": {
    "name": "ipython",
    "version": 3
   },
   "file_extension": ".py",
   "mimetype": "text/x-python",
   "name": "python",
   "nbconvert_exporter": "python",
   "pygments_lexer": "ipython3",
   "version": "3.6.3"
  }
 },
 "nbformat": 4,
 "nbformat_minor": 2
}
