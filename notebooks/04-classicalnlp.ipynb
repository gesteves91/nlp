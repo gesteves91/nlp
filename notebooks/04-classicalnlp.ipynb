{
 "cells": [
  {
   "cell_type": "markdown",
   "metadata": {},
   "source": [
    "## Introdução a PLN Clássico ##\n",
    "\n",
    "Este notebook é uma introdução prática à PNL Clássica, isto é, técnicas de aprendizagem não profundas (deep learning) da PNL. Os tópicos abordados se alinham com as tarefas de PNL relacionadas aos vários estágios do pipeline de PNL: processamento de texto, exploração de texto, recursos de construção e tarefas em nível de aplicativo.\n"
   ]
  },
  {
   "cell_type": "markdown",
   "metadata": {},
   "source": [
    "## 1. Introdução ##\n"
   ]
  },
  {
   "cell_type": "code",
   "execution_count": 1,
   "metadata": {},
   "outputs": [],
   "source": [
    "import nltk\n",
    "\n",
    "# pode ser necessário fazer um download com o comando abaixo dependendo da instalação\n",
    "# nltk.download()"
   ]
  },
  {
   "cell_type": "markdown",
   "metadata": {},
   "source": [
    "#### Referência básica sobre expressão regular:\n",
    "    Operador   Significado   Exemplo  Significado do Exemplo\n",
    "    \n",
    "    +          um ou mais    a+       olhe para 1 ou mais \"a\" caracteres \n",
    "    *          zero ou mais  a*       olhe para 0 ou mais \"a\" caracteres\n",
    "    ?          opcional      a?       olhe para 0 ou 1 \"a\" caracteres\n",
    "    []         escolha 1     [abc]    olhe para \"a\" ou \"b\" ou \"c\"\n",
    "    [-]        intervalo     [a-z]    olhe para qualquer caractere entre \"a\" e \"z\"\n",
    "    [^]        negação       [^a]     olhe para o caractere que não é um \"a\"\n",
    "    ()         agrupamento   (a-z)+   olhe para um ou mais ocorrências de \"a\" e \"z\"\n",
    "    (|)        ou operador   (ey|ax)  olhe para strings \"ey\" ou \"ax\"\n",
    "    ab         seguimento    ab       olhe para um caractere \"a\" seguido por \"b\"\n",
    "    ^          começo        ^a       olhe para o caractere \"a\" no começo da string/line\n",
    "    $          fim           a$       olhe para um caractere \"a\" no final da string/line\n",
    "    \\s         whitespace    \\sa      olhe para espaços em branco seguindo por \"a\"\n",
    "    .          qualquer char a.b      olhe para um \"a\" seguido de qualquer char e \"b\"\n",
    "    \n",
    "Uso comuns:\n",
    "   - re.search     encontra primeiro matching objeto\n",
    "   - re.findall    encontra todos matching objetos\n",
    "   - re.sub        substitua matches com uma string qualquer\n",
    "    "
   ]
  },
  {
   "cell_type": "code",
   "execution_count": 10,
   "metadata": {},
   "outputs": [
    {
     "data": {
      "text/plain": [
       "<re.Match object; span=(11, 12), match='x'>"
      ]
     },
     "execution_count": 10,
     "metadata": {},
     "output_type": "execute_result"
    }
   ],
   "source": [
    "import re\n",
    "\n",
    "# search por um caractere singular\n",
    "re.search(r\"x\", \"uma ajuda extra\")"
   ]
  },
  {
   "cell_type": "code",
   "execution_count": 11,
   "metadata": {},
   "outputs": [
    {
     "data": {
      "text/plain": [
       "'x'"
      ]
     },
     "execution_count": 11,
     "metadata": {},
     "output_type": "execute_result"
    }
   ],
   "source": [
    "# busca por um single char\n",
    "re.search(r\"x\", \"um ajuda extra\").group(0)"
   ]
  },
  {
   "cell_type": "code",
   "execution_count": 12,
   "metadata": {},
   "outputs": [
    {
     "data": {
      "text/plain": [
       "['n', 'o', 'd', 'i', 'n', 'h', 'e', 'i', 'r', 'o']"
      ]
     },
     "execution_count": 12,
     "metadata": {},
     "output_type": "execute_result"
    }
   ],
   "source": [
    "# encontra todas as ocorrências de qualquer caractere entre \"a\" e \"z\" \n",
    "re.findall(r\"[a-z]\", \"R$825.33 no dinheiro.\")"
   ]
  },
  {
   "cell_type": "code",
   "execution_count": 13,
   "metadata": {},
   "outputs": [
    {
     "data": {
      "text/plain": [
       "['nome', 'telefone']"
      ]
     },
     "execution_count": 13,
     "metadata": {},
     "output_type": "execute_result"
    }
   ],
   "source": [
    "# encontra todas as ocorrências de qualquer \"nome: ou \"telefone\"\n",
    "re.findall(r\"(nome|telefone):\", \"Meu nome: Geanderson, meu telefone: (312)555-1212\")"
   ]
  },
  {
   "cell_type": "code",
   "execution_count": 14,
   "metadata": {},
   "outputs": [
    {
     "data": {
      "text/plain": [
       "['Gato', 'gato']"
      ]
     },
     "execution_count": 14,
     "metadata": {},
     "output_type": "execute_result"
    }
   ],
   "source": [
    "# encontra \"gato\", \"gatos\" or \"Gato\", or \"Gatos\"\n",
    "re.findall(r\"([Gg]ato)s?\", \"Der aos Gatos ou somente o gato.\")"
   ]
  },
  {
   "cell_type": "code",
   "execution_count": 15,
   "metadata": {},
   "outputs": [
    {
     "data": {
      "text/plain": [
       "'Ex.  Ex xxx xx xxxxx xx xxxxx xxxxx...'"
      ]
     },
     "execution_count": 15,
     "metadata": {},
     "output_type": "execute_result"
    }
   ],
   "source": [
    "# substitua todas palavras minúsculas com um \"x\"\n",
    "re.sub(\"[a-z]\", \"x\", \"Ei.  Eu sei um pouco de regex agora...\")"
   ]
  },
  {
   "cell_type": "markdown",
   "metadata": {},
   "source": [
    "## 2. Processamento de Texto ##\n",
    "\n",
    "Agora, vamos revisar algumas tarefas de processamento de texto."
   ]
  },
  {
   "cell_type": "code",
   "execution_count": 3,
   "metadata": {},
   "outputs": [
    {
     "name": "stderr",
     "output_type": "stream",
     "text": [
      "[nltk_data] Downloading package gutenberg to\n",
      "[nltk_data]     /home/geanderson/nltk_data...\n",
      "[nltk_data]   Package gutenberg is already up-to-date!\n",
      "[nltk_data] Downloading package webtext to\n",
      "[nltk_data]     /home/geanderson/nltk_data...\n",
      "[nltk_data]   Package webtext is already up-to-date!\n",
      "[nltk_data] Downloading package stopwords to\n",
      "[nltk_data]     /home/geanderson/nltk_data...\n",
      "[nltk_data]   Package stopwords is already up-to-date!\n",
      "[nltk_data] Downloading package names to /home/geanderson/nltk_data...\n"
     ]
    },
    {
     "name": "stdout",
     "output_type": "stream",
     "text": [
      "gutenberg book ids= ['austen-emma.txt', 'austen-persuasion.txt', 'austen-sense.txt', 'bible-kjv.txt', 'blake-poems.txt', 'bryant-stories.txt', 'burgess-busterbrown.txt', 'carroll-alice.txt', 'chesterton-ball.txt', 'chesterton-brown.txt', 'chesterton-thursday.txt', 'edgeworth-parents.txt', 'melville-moby_dick.txt', 'milton-paradise.txt', 'shakespeare-caesar.txt', 'shakespeare-hamlet.txt', 'shakespeare-macbeth.txt', 'whitman-leaves.txt']\n"
     ]
    },
    {
     "name": "stderr",
     "output_type": "stream",
     "text": [
      "[nltk_data]   Unzipping corpora/names.zip.\n"
     ]
    }
   ],
   "source": [
    "import nltk\n",
    "\n",
    "# carregamento das bases que vamos utilizar\n",
    "nltk.download('gutenberg')\n",
    "nltk.download('webtext')\n",
    "nltk.download('stopwords')\n",
    "nltk.download('names')\n",
    "\n",
    "# acesso a base de gutenberg\n",
    "print(\"gutenberg book ids=\", nltk.corpus.gutenberg.fileids())"
   ]
  },
  {
   "cell_type": "code",
   "execution_count": 4,
   "metadata": {},
   "outputs": [
    {
     "name": "stdout",
     "output_type": "stream",
     "text": [
      "len(alice)= 34110\n",
      "['[', 'Alice', \"'\", 's', 'Adventures', 'in', 'Wonderland', 'by', 'Lewis', 'Carroll', '1865', ']', 'CHAPTER', 'I', '.', 'Down', 'the', 'Rabbit', '-', 'Hole', 'Alice', 'was', 'beginning', 'to', 'get', 'very', 'tired', 'of', 'sitting', 'by', 'her', 'sister', 'on', 'the', 'bank', ',', 'and', 'of', 'having', 'nothing', 'to', 'do', ':', 'once', 'or', 'twice', 'she', 'had', 'peeped', 'into', 'the', 'book', 'her', 'sister', 'was', 'reading', ',', 'but', 'it', 'had', 'no', 'pictures', 'or', 'conversations', 'in', 'it', ',', \"'\", 'and', 'what', 'is', 'the', 'use', 'of', 'a', 'book', \",'\", 'thought', 'Alice', \"'\", 'without', 'pictures', 'or', 'conversation', \"?'\", 'So', 'she', 'was', 'considering', 'in', 'her', 'own', 'mind', '(', 'as', 'well', 'as', 'she', 'could', ',']\n"
     ]
    }
   ],
   "source": [
    "# carrega palavras de \"Alice in Wonderland\"\n",
    "\n",
    "alice = nltk.corpus.gutenberg.words(\"carroll-alice.txt\")\n",
    "print(\"len(alice)=\", len(alice))\n",
    "print(alice[:100])"
   ]
  },
  {
   "cell_type": "code",
   "execution_count": 5,
   "metadata": {},
   "outputs": [
    {
     "name": "stdout",
     "output_type": "stream",
     "text": [
      "len(grail)= 16967\n",
      "['SCENE', '1', ':', '[', 'wind', ']', '[', 'clop', 'clop', 'clop', ']', 'KING', 'ARTHUR', ':', 'Whoa', 'there', '!', '[', 'clop', 'clop', 'clop', ']', 'SOLDIER', '#', '1', ':', 'Halt', '!', 'Who', 'goes', 'there', '?', 'ARTHUR', ':', 'It', 'is', 'I', ',', 'Arthur', ',', 'son', 'of', 'Uther', 'Pendragon', ',', 'from', 'the', 'castle', 'of', 'Camelot', '.', 'King', 'of', 'the', 'Britons', ',', 'defeator', 'of', 'the', 'Saxons', ',', 'sovereign', 'of', 'all', 'England', '!', 'SOLDIER', '#', '1', ':', 'Pull', 'the', 'other', 'one', '!', 'ARTHUR', ':', 'I', 'am', ',', '...', 'and', 'this', 'is', 'my', 'trusty', 'servant', 'Patsy', '.', 'We', 'have', 'ridden', 'the', 'length', 'and', 'breadth', 'of', 'the', 'land', 'in']\n"
     ]
    }
   ],
   "source": [
    "# carrega palavras de \"Monty Python and the Holy Grail\"\n",
    "\n",
    "grail = nltk.corpus.webtext.words(\"grail.txt\")\n",
    "print(\"len(grail)=\", len(grail))\n",
    "\n",
    "print(grail[:100])"
   ]
  },
  {
   "cell_type": "code",
   "execution_count": 6,
   "metadata": {},
   "outputs": [
    {
     "data": {
      "text/plain": [
       "['o',\n",
       " 'homem',\n",
       " ',',\n",
       " 'ele',\n",
       " 'correu',\n",
       " 'por',\n",
       " 'R',\n",
       " '$',\n",
       " '3.23',\n",
       " 'no',\n",
       " 'dia',\n",
       " '03/23/2016',\n",
       " '.']"
      ]
     },
     "execution_count": 6,
     "metadata": {},
     "output_type": "execute_result"
    }
   ],
   "source": [
    "# NLTK exemplo: WORD segmentation\n",
    "\n",
    "nltk.word_tokenize(\"o homem, ele correu por R$3.23 no dia 03/23/2016.\")"
   ]
  },
  {
   "cell_type": "code",
   "execution_count": 7,
   "metadata": {},
   "outputs": [
    {
     "data": {
      "text/plain": [
       "['O homem correu atrás.', 'A mesa estava lá atrás?', 'Sim logo lá!']"
      ]
     },
     "execution_count": 7,
     "metadata": {},
     "output_type": "execute_result"
    }
   ],
   "source": [
    "# NLTK exemplo: SENTENCE segmentation\n",
    "\n",
    "nltk.sent_tokenize('O homem correu atrás.  A mesa estava lá atrás?  Sim logo lá!')"
   ]
  },
  {
   "cell_type": "code",
   "execution_count": 8,
   "metadata": {},
   "outputs": [
    {
     "data": {
      "text/plain": [
       "'teste remover palavras stopwords.'"
      ]
     },
     "execution_count": 8,
     "metadata": {},
     "output_type": "execute_result"
    }
   ],
   "source": [
    "# exemplo de código: algoritmo simples para remover stopwords.\n",
    "stoppers = \"o é um a de para esse\".split()\n",
    "\n",
    "def removeStopWords(stopWords, txt):\n",
    "    newtxt = ' '.join([word for word in txt.split() if word not in stopWords])\n",
    "    return newtxt\n",
    "\n",
    "removeStopWords(stoppers, \"esse é um teste para remover palavras stopwords.\")"
   ]
  },
  {
   "cell_type": "code",
   "execution_count": 9,
   "metadata": {},
   "outputs": [
    {
     "name": "stdout",
     "output_type": "stream",
     "text": [
      "len(stops)= 179\n"
     ]
    },
    {
     "data": {
      "text/plain": [
       "'test stop word removal code.'"
      ]
     },
     "execution_count": 9,
     "metadata": {},
     "output_type": "execute_result"
    }
   ],
   "source": [
    "# NLTK exemplo: removendo stopwords em inglês\n",
    "from nltk.corpus import stopwords\n",
    "stops = stopwords.words(\"english\")\n",
    "\n",
    "print(\"len(stops)=\", len(stops))\n",
    "\n",
    "removeStopWords(stops, \"this is a test of the stop word removal code.\")"
   ]
  },
  {
   "cell_type": "code",
   "execution_count": 10,
   "metadata": {},
   "outputs": [
    {
     "data": {
      "text/plain": [
       "'o homem correu atrás.  a mesa estava lá atrás?  sim logo lá!'"
      ]
     },
     "execution_count": 10,
     "metadata": {},
     "output_type": "execute_result"
    }
   ],
   "source": [
    "# exemplo de código: removendo case\n",
    "str = 'O homem correu atrás.  A mesa estava lá atrás?  Sim logo lá!'\n",
    "str.lower()"
   ]
  },
  {
   "cell_type": "code",
   "execution_count": 11,
   "metadata": {},
   "outputs": [
    {
     "name": "stdout",
     "output_type": "stream",
     "text": [
      "porter: ['pleas', \"don't\", 'unbuckl', 'your', 'seat-belt', 'while', 'I', 'am', 'driving,', 'he', 'said']\n",
      "\n",
      "lancaster: ['pleas', \"don't\", 'unbuckl', 'yo', 'seat-belt', 'whil', 'i', 'am', 'driving,', 'he', 'said']\n"
     ]
    }
   ],
   "source": [
    "# NLTK exemplo: stemming\n",
    "\n",
    "def stem_with_porter(words):\n",
    "    porter = nltk.PorterStemmer()\n",
    "    new_words = [porter.stem(w) for w in words]\n",
    "    return new_words\n",
    "    \n",
    "def stem_with_lancaster(words):\n",
    "    porter = nltk.LancasterStemmer()\n",
    "    new_words = [porter.stem(w) for w in words]\n",
    "    return new_words    \n",
    "    \n",
    "str = \"Please don't unbuckle your seat-belt while I am driving, he said\"\n",
    "\n",
    "print(\"porter:\", stem_with_porter(str.split()))\n",
    "print()\n",
    "print(\"lancaster:\", stem_with_lancaster(str.split()))\n"
   ]
  },
  {
   "cell_type": "markdown",
   "metadata": {},
   "source": [
    "## 3. Exploração do Texto ##"
   ]
  },
  {
   "cell_type": "code",
   "execution_count": 12,
   "metadata": {},
   "outputs": [
    {
     "data": {
      "text/plain": [
       "<Figure size 2000x500 with 1 Axes>"
      ]
     },
     "metadata": {},
     "output_type": "display_data"
    }
   ],
   "source": [
    "# NLTK exemplo: análise de frequência\n",
    "import nltk\n",
    "from nltk.corpus import gutenberg\n",
    "from nltk.probability import FreqDist\n",
    "\n",
    "# texto de \"Sense and Sensibility\" por Jane Austen\n",
    "raw = gutenberg.raw(\"austen-sense.txt\")\n",
    "fd_letters = FreqDist(raw)\n",
    "\n",
    "words = gutenberg.words(\"austen-sense.txt\")\n",
    "fd_words = FreqDist(words)\n",
    "sas = nltk.Text(words)\n",
    "\n",
    "import matplotlib.pyplot as plt\n",
    "plt.figure(figsize=(20, 5)) \n",
    "\n",
    "fd_letters.plot(100)"
   ]
  },
  {
   "cell_type": "code",
   "execution_count": 13,
   "metadata": {},
   "outputs": [
    {
     "data": {
      "image/png": "[encoded data removed]",
      "text/plain": [
       "<Figure size 1440x360 with 1 Axes>"
      ]
     },
     "metadata": {
      "needs_background": "light"
     },
     "output_type": "display_data"
    }
   ],
   "source": [
    "import matplotlib.pyplot as plt\n",
    "plt.figure(figsize=(20, 5)) \n",
    "\n",
    "fd_words.plot(50)"
   ]
  },
  {
   "cell_type": "code",
   "execution_count": 14,
   "metadata": {},
   "outputs": [
    {
     "name": "stdout",
     "output_type": "stream",
     "text": [
      "Colonel Brandon; Sir John; Lady Middleton; Miss Dashwood; every thing;\n",
      "thousand pounds; dare say; Miss Steeles; said Elinor; Miss Steele;\n",
      "every body; John Dashwood; great deal; Harley Street; Berkeley Street;\n",
      "Miss Dashwoods; young man; Combe Magna; every day; next morning\n"
     ]
    }
   ],
   "source": [
    "# lista de colocações para \"Sense and Sensibility\"\n",
    "sas.collocations() "
   ]
  },
  {
   "cell_type": "code",
   "execution_count": 15,
   "metadata": {},
   "outputs": [
    {
     "data": {
      "text/plain": [
       "['disappointments',\n",
       " 'misapprehension',\n",
       " 'Disappointment',\n",
       " 'representations',\n",
       " 'misconstruction',\n",
       " 'encouragements',\n",
       " 'conscientiously',\n",
       " 'inconveniences',\n",
       " 'irreproachable',\n",
       " 'embellishments',\n",
       " 'discrimination',\n",
       " 'qualifications',\n",
       " 'unintelligible',\n",
       " 'constitutional',\n",
       " 'representation']"
      ]
     },
     "execution_count": 15,
     "metadata": {},
     "output_type": "execute_result"
    }
   ],
   "source": [
    "# vamos procurar por palavras grandes no texto\n",
    "longWords = [w for w in set(words) if len(w) > 13]\n",
    "longWords[:15]"
   ]
  },
  {
   "cell_type": "code",
   "execution_count": 16,
   "metadata": {},
   "outputs": [
    {
     "name": "stdout",
     "output_type": "stream",
     "text": [
      "Displaying 2 of 2 matches:\n",
      "before . She took them all most affectionately by the hand , and expressed gre\n",
      "ed , took her hand , kissed her affectionately several times , and then gave w\n",
      "\n",
      "Displaying 4 of 4 matches:\n",
      "ould not be maintained if their correspondence were to pass through Sir John '\n",
      "ve been Edward ' s gift ; but a correspondence between them by letter , could \n",
      "she had no doubt , and of their correspondence she was not astonished to hear \n",
      "e of Edward afforded her by the correspondence , for his name was not even men\n",
      "\n",
      "Displaying 25 of 36 matches:\n",
      " not know what he was talking of , I dare say ; ten to one but he was light - \n",
      "l . The assistance he thought of , I dare say , was only such as might be reas\n",
      "g , if I have plenty of money , as I dare say I shall , we may think about bui\n",
      ", you will make conquests enough , I dare say , one way or other . Poor Brando\n",
      "e . He is the curate of the parish I dare say .\" \" No , THAT he is not . He is\n",
      "m . He was afraid of catching cold I dare say , and invented this trick for ge\n",
      "ve it in my power to return , that I dare not engage for it at all .\" \" Oh ! h\n",
      "and as like him as she can stare . I dare say the Colonel will leave her all h\n",
      "t Miss Williams and , by the bye , I dare say it is , because he looked so con\n",
      " \" are of such a nature -- that -- I dare not flatter myself \"-- He stopt . Mr\n",
      "nd MY wealth are very much alike , I dare say ; and without them , as the worl\n",
      " unites beauty with utility -- and I dare say it is a picturesque one too , be\n",
      ", you know . Not above ten miles , I dare say .\" \" Much nearer thirty ,\" said \n",
      "h my uncle at Weymouth . However , I dare say we should have seen a great deal\n",
      "t if mama had not objected to it , I dare say he would have liked it of all th\n",
      "ill think my question an odd one , I dare say ,\" said Lucy to her one day , as\n",
      "an inquiry into her character .\" \" I dare say you are , and I am sure I do not\n",
      "ave had no idea of it before ; for I dare say he never dropped the smallest hi\n",
      "or she would never approve of it , I dare say . I shall have no fortune , and \n",
      " to Elinor . \" You know his hand , I dare say , a charming one it is ; but tha\n",
      "o well as usual .-- He was tired , I dare say , for he had just filled the she\n",
      "talking of their favourite beaux , I dare say .\" \" No sister ,\" cried Lucy , \"\n",
      "ng significantly round at them , \" I dare say Lucy ' s beau is quite as modest\n",
      " , for you are a party concerned . I dare say you have seen enough of Edward t\n",
      "h pleasure to meet you there ! But I dare say you will go for all that . To be\n",
      "\n"
     ]
    }
   ],
   "source": [
    "sas.concordance(\"affectionately\")\n",
    "print()\n",
    "\n",
    "sas.concordance(\"correspondence\")\n",
    "print()\n",
    "\n",
    "sas.concordance(\"dare\")\n",
    "print()\n"
   ]
  },
  {
   "cell_type": "code",
   "execution_count": 17,
   "metadata": {},
   "outputs": [
    {
     "name": "stdout",
     "output_type": "stream",
     "text": [
      "attention time regard mother love heart opinion sister wishes wife\n",
      "arrival marianne kindness family it marriage sisters sake conduct mind\n"
     ]
    }
   ],
   "source": [
    "# vamos checar palavras similares a uma determinada palavra\n",
    "sas.similar(\"affection\")"
   ]
  },
  {
   "cell_type": "markdown",
   "metadata": {},
   "source": [
    "## 4. Aplicações clássicas de NLP ##"
   ]
  },
  {
   "cell_type": "code",
   "execution_count": 21,
   "metadata": {},
   "outputs": [
    {
     "name": "stdout",
     "output_type": "stream",
     "text": [
      "trainData accuracy= 0.9200629425649095\n",
      "testData accuracy= 0.8414096916299559\n",
      "Most Informative Features\n",
      "                 suffix2 = 'na'           female : male   =     85.9 : 1.0\n",
      "                 suffix2 = 'la'           female : male   =     60.8 : 1.0\n",
      "                 suffix2 = 'ia'           female : male   =     31.8 : 1.0\n",
      "                 suffix2 = 'sa'           female : male   =     31.5 : 1.0\n",
      "                 suffix2 = 'us'             male : female =     31.3 : 1.0\n",
      "                  suffix = 'a'            female : male   =     29.0 : 1.0\n",
      "                 suffix2 = 'rd'             male : female =     27.7 : 1.0\n",
      "                 suffix2 = 'ta'           female : male   =     27.4 : 1.0\n",
      "                  suffix = 'k'              male : female =     26.7 : 1.0\n",
      "                 suffix3 = 'ard'            male : female =     24.1 : 1.0\n",
      "                 suffix3 = 'ita'          female : male   =     23.2 : 1.0\n",
      "                 suffix2 = 'rt'             male : female =     22.4 : 1.0\n",
      "                 suffix3 = 'ana'          female : male   =     21.9 : 1.0\n",
      "                 suffix2 = 'ra'           female : male   =     21.8 : 1.0\n",
      "                 suffix2 = 'do'             male : female =     20.8 : 1.0\n",
      "                 suffix3 = 'tta'          female : male   =     19.8 : 1.0\n",
      "                 suffix2 = 'os'             male : female =     18.5 : 1.0\n",
      "                  suffix = 'f'              male : female =     15.5 : 1.0\n",
      "                 suffix2 = 'im'             male : female =     15.1 : 1.0\n",
      "                 suffix2 = 'io'             male : female =     15.1 : 1.0\n",
      "                 suffix3 = 'son'            male : female =     14.5 : 1.0\n",
      "                 suffix3 = 'lle'          female : male   =     14.3 : 1.0\n",
      "                 prefix3 = 'ros'          female : male   =     14.2 : 1.0\n",
      "                 prefix3 = 'tha'            male : female =     14.1 : 1.0\n",
      "                 suffix3 = 'ela'          female : male   =     13.8 : 1.0\n"
     ]
    }
   ],
   "source": [
    "# código para construir um classificador de nomes em feminino e masculino (inglês)\n",
    "\n",
    "names = [(name, 'male') for name in nltk.corpus.names.words(\"male.txt\")]\n",
    "names += [(name, 'female') for name in nltk.corpus.names.words(\"female.txt\")]\n",
    "\n",
    "def extract_gender_features(name):\n",
    "    name = name.lower()\n",
    "    features = {}\n",
    "    features[\"suffix\"] = name[-1:]\n",
    "    features[\"suffix2\"] = name[-2:] if len(name) > 1 else name[0]\n",
    "    features[\"suffix3\"] = name[-3:] if len(name) > 2 else name[0]\n",
    "    features[\"prefix\"] = name[:1]\n",
    "    features[\"prefix2\"] = name[:2] if len(name) > 1 else name[0]\n",
    "    features[\"prefix3\"] = name[:3] if len(name) > 2 else name[0]\n",
    "    features[\"prefix4\"] = name[:4] if len(name) > 3 else name[0]\n",
    "    features[\"prefix5\"] = name[:5] if len(name) > 4 else name[0]\n",
    "    \n",
    "    return features\n",
    "\n",
    "data = [(extract_gender_features(name), gender) for (name,gender) in names]\n",
    "\n",
    "import random\n",
    "random.shuffle(data)\n",
    "\n",
    "dataCount = len(data)\n",
    "trainCount = int(.8*dataCount)\n",
    "\n",
    "trainData = data[:trainCount]\n",
    "testData = data[trainCount:]\n",
    "bayes = nltk.NaiveBayesClassifier.train(trainData)\n",
    "\n",
    "def classify(name):\n",
    "    label = bayes.classify(extract_gender_features(name))\n",
    "    print(\"name=\", name, \"classifed as=\", label)\n",
    "\n",
    "print(\"trainData accuracy=\", nltk.classify.accuracy(bayes, trainData))\n",
    "print(\"testData accuracy=\", nltk.classify.accuracy(bayes, testData))\n",
    "\n",
    "bayes.show_most_informative_features(25)"
   ]
  },
  {
   "cell_type": "code",
   "execution_count": null,
   "metadata": {},
   "outputs": [],
   "source": []
  }
 ],
 "metadata": {
  "anaconda-cloud": {},
  "kernelspec": {
   "display_name": "Python 3",
   "language": "python",
   "name": "python3"
  },
  "language_info": {
   "codemirror_mode": {
    "name": "ipython",
    "version": 3
   },
   "file_extension": ".py",
   "mimetype": "text/x-python",
   "name": "python",
   "nbconvert_exporter": "python",
   "pygments_lexer": "ipython3",
   "version": "3.7.3"
  }
 },
 "nbformat": 4,
 "nbformat_minor": 1
}
